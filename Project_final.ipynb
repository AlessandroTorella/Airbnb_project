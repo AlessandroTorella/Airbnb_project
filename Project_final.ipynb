{
 "cells": [
  {
   "cell_type": "markdown",
   "id": "b41dd090",
   "metadata": {},
   "source": [
    "## Airbnb project"
   ]
  },
  {
   "cell_type": "code",
   "execution_count": 217,
   "id": "0cb6be59",
   "metadata": {},
   "outputs": [],
   "source": [
    "import pandas as pd\n",
    "import geopandas as gpd\n",
    "import matplotlib.pyplot as plt\n",
    "from shapely.geometry import Point, LineString\n",
    "import seaborn as sns\n",
    "import numpy as np\n",
    "import shapely\n",
    "from geopy import distance"
   ]
  },
  {
   "cell_type": "code",
   "execution_count": 218,
   "id": "1555a34c",
   "metadata": {},
   "outputs": [],
   "source": [
    "pd.options.mode.chained_assignment = None"
   ]
  },
  {
   "cell_type": "code",
   "execution_count": 219,
   "id": "8e14f3be",
   "metadata": {},
   "outputs": [],
   "source": [
    "metro = gpd.read_file('metro.geojson')\n",
    "df = pd.read_csv('listings.csv')"
   ]
  },
  {
   "cell_type": "markdown",
   "id": "a239ad44",
   "metadata": {},
   "source": [
    "# Metro dataset"
   ]
  },
  {
   "cell_type": "code",
   "execution_count": 220,
   "id": "a5babe48",
   "metadata": {},
   "outputs": [],
   "source": [
    "df2 = metro.copy()\n",
    "for i in range(len(df2)):\n",
    "    if not '/' in df2['LINHA'][i]:\n",
    "        df2.drop([i], axis=0, inplace=True)\n",
    "df2 = df2.reset_index()"
   ]
  },
  {
   "cell_type": "code",
   "execution_count": 221,
   "id": "71223d71",
   "metadata": {},
   "outputs": [],
   "source": [
    "for i in range(len(metro)):\n",
    "    if '/' in  metro['LINHA'][i]:\n",
    "        metro['LINHA'][i] = metro['LINHA'][i].split('/')[0]\n",
    "\n",
    "for j in range(len(df2)):\n",
    "    df2['LINHA'][j] = df2['LINHA'][j].split('/')[1]\n",
    "    \n",
    "metro = pd.concat([metro, df2])"
   ]
  },
  {
   "cell_type": "code",
   "execution_count": 222,
   "id": "dfeb4270",
   "metadata": {},
   "outputs": [],
   "source": [
    "metro = pd.concat([metro, df2])\n",
    "metro = metro.drop(columns = ['index','OBJECTID','COD_SIG','IDTIPO','SITUACAO','GlobalID'])"
   ]
  },
  {
   "cell_type": "code",
   "execution_count": 223,
   "id": "198c3cd4",
   "metadata": {},
   "outputs": [
    {
     "data": {
      "text/html": [
       "<div>\n",
       "<style scoped>\n",
       "    .dataframe tbody tr th:only-of-type {\n",
       "        vertical-align: middle;\n",
       "    }\n",
       "\n",
       "    .dataframe tbody tr th {\n",
       "        vertical-align: top;\n",
       "    }\n",
       "\n",
       "    .dataframe thead th {\n",
       "        text-align: right;\n",
       "    }\n",
       "</style>\n",
       "<table border=\"1\" class=\"dataframe\">\n",
       "  <thead>\n",
       "    <tr style=\"text-align: right;\">\n",
       "      <th></th>\n",
       "      <th>NOME</th>\n",
       "      <th>LINHA</th>\n",
       "      <th>geometry</th>\n",
       "    </tr>\n",
       "  </thead>\n",
       "  <tbody>\n",
       "    <tr>\n",
       "      <th>0</th>\n",
       "      <td>Cais do Sodré</td>\n",
       "      <td>Verde</td>\n",
       "      <td>POINT (-9.14609 38.70627)</td>\n",
       "    </tr>\n",
       "    <tr>\n",
       "      <th>1</th>\n",
       "      <td>Terreiro do Paço</td>\n",
       "      <td>Azul</td>\n",
       "      <td>POINT (-9.13419 38.70728)</td>\n",
       "    </tr>\n",
       "    <tr>\n",
       "      <th>2</th>\n",
       "      <td>Baixa Chiado</td>\n",
       "      <td>Azul</td>\n",
       "      <td>POINT (-9.14015 38.71057)</td>\n",
       "    </tr>\n",
       "    <tr>\n",
       "      <th>3</th>\n",
       "      <td>Santa Apolónia</td>\n",
       "      <td>Azul</td>\n",
       "      <td>POINT (-9.12241 38.71404)</td>\n",
       "    </tr>\n",
       "    <tr>\n",
       "      <th>4</th>\n",
       "      <td>Rossio</td>\n",
       "      <td>Verde</td>\n",
       "      <td>POINT (-9.13792 38.71418)</td>\n",
       "    </tr>\n",
       "    <tr>\n",
       "      <th>...</th>\n",
       "      <td>...</td>\n",
       "      <td>...</td>\n",
       "      <td>...</td>\n",
       "    </tr>\n",
       "    <tr>\n",
       "      <th>1</th>\n",
       "      <td>Marquês de Pombal</td>\n",
       "      <td>Amarela</td>\n",
       "      <td>POINT (-9.15005 38.72532)</td>\n",
       "    </tr>\n",
       "    <tr>\n",
       "      <th>2</th>\n",
       "      <td>São Sebastião</td>\n",
       "      <td>Vermelha</td>\n",
       "      <td>POINT (-9.15394 38.73453)</td>\n",
       "    </tr>\n",
       "    <tr>\n",
       "      <th>3</th>\n",
       "      <td>Saldanha</td>\n",
       "      <td>Vermelha</td>\n",
       "      <td>POINT (-9.14533 38.73532)</td>\n",
       "    </tr>\n",
       "    <tr>\n",
       "      <th>4</th>\n",
       "      <td>Alameda</td>\n",
       "      <td>Vermelha</td>\n",
       "      <td>POINT (-9.13387 38.73697)</td>\n",
       "    </tr>\n",
       "    <tr>\n",
       "      <th>5</th>\n",
       "      <td>Campo Grande</td>\n",
       "      <td>Verde</td>\n",
       "      <td>POINT (-9.15785 38.76033)</td>\n",
       "    </tr>\n",
       "  </tbody>\n",
       "</table>\n",
       "<p>62 rows × 3 columns</p>\n",
       "</div>"
      ],
      "text/plain": [
       "                 NOME     LINHA                   geometry\n",
       "0       Cais do Sodré     Verde  POINT (-9.14609 38.70627)\n",
       "1    Terreiro do Paço      Azul  POINT (-9.13419 38.70728)\n",
       "2        Baixa Chiado      Azul  POINT (-9.14015 38.71057)\n",
       "3      Santa Apolónia      Azul  POINT (-9.12241 38.71404)\n",
       "4              Rossio     Verde  POINT (-9.13792 38.71418)\n",
       "..                ...       ...                        ...\n",
       "1   Marquês de Pombal   Amarela  POINT (-9.15005 38.72532)\n",
       "2       São Sebastião  Vermelha  POINT (-9.15394 38.73453)\n",
       "3            Saldanha  Vermelha  POINT (-9.14533 38.73532)\n",
       "4             Alameda  Vermelha  POINT (-9.13387 38.73697)\n",
       "5        Campo Grande     Verde  POINT (-9.15785 38.76033)\n",
       "\n",
       "[62 rows x 3 columns]"
      ]
     },
     "execution_count": 223,
     "metadata": {},
     "output_type": "execute_result"
    }
   ],
   "source": [
    "metro"
   ]
  },
  {
   "cell_type": "code",
   "execution_count": 224,
   "id": "d4c07ad6",
   "metadata": {},
   "outputs": [],
   "source": [
    "yellow = metro[metro.LINHA == 'Amarela'].reset_index()\n",
    "blue = metro[metro.LINHA == 'Azul'].reset_index()\n",
    "green = metro[metro.LINHA == 'Verde'].reset_index()\n",
    "red = metro[metro.LINHA == 'Vermelha'].reset_index()"
   ]
  },
  {
   "cell_type": "markdown",
   "id": "55825a56",
   "metadata": {},
   "source": [
    "# Metro Network"
   ]
  },
  {
   "cell_type": "code",
   "execution_count": 225,
   "id": "d620bbf7",
   "metadata": {},
   "outputs": [],
   "source": [
    "import networkx as nx\n",
    "from pyvis.network import Network"
   ]
  },
  {
   "cell_type": "markdown",
   "id": "14b06720",
   "metadata": {},
   "source": [
    "Import the graph baseline from excel where we have column for Origin and Destination"
   ]
  },
  {
   "cell_type": "code",
   "execution_count": 226,
   "id": "008b52b9",
   "metadata": {},
   "outputs": [],
   "source": [
    "metro_graph = pd.read_excel('metro.xlsx')"
   ]
  },
  {
   "cell_type": "code",
   "execution_count": 227,
   "id": "4efbfd2e",
   "metadata": {},
   "outputs": [],
   "source": [
    "metro_graph = metro_graph.dropna()\n",
    "metro_graph = metro_graph.drop(columns = ['NOME', 'LINHA', 'Unnamed: 0', 'OBJECTID'])"
   ]
  },
  {
   "cell_type": "markdown",
   "id": "33ecd803",
   "metadata": {},
   "source": [
    "## Set up the graph"
   ]
  },
  {
   "cell_type": "code",
   "execution_count": 228,
   "id": "15087920",
   "metadata": {},
   "outputs": [],
   "source": [
    "G = nx.Graph()\n",
    "G = nx.from_pandas_edgelist(metro_graph, 'Origin', 'Destination')"
   ]
  },
  {
   "cell_type": "code",
   "execution_count": 229,
   "id": "f0925566",
   "metadata": {},
   "outputs": [
    {
     "data": {
      "text/html": [
       "\n",
       "        <iframe\n",
       "            width=\"500\"\n",
       "            height=\"500\"\n",
       "            src=\"metro.html\"\n",
       "            frameborder=\"0\"\n",
       "            allowfullscreen\n",
       "            \n",
       "        ></iframe>\n",
       "        "
      ],
      "text/plain": [
       "<IPython.lib.display.IFrame at 0x7fa293b53550>"
      ]
     },
     "execution_count": 229,
     "metadata": {},
     "output_type": "execute_result"
    }
   ],
   "source": [
    "net = Network(notebook=True)\n",
    "net.from_nx(G)\n",
    "net.width=500\n",
    "net.height=500\n",
    "net.show('metro.html')"
   ]
  },
  {
   "cell_type": "markdown",
   "id": "30053e22",
   "metadata": {},
   "source": [
    "Get the origin and destination coordinates"
   ]
  },
  {
   "cell_type": "code",
   "execution_count": 230,
   "id": "41753371",
   "metadata": {},
   "outputs": [],
   "source": [
    "metro_dict = dict(zip(metro.NOME, metro.geometry))\n",
    "metro_graph['p1'] = (metro_graph['Origin']).map(metro_dict)\n",
    "metro_graph['p2'] = (metro_graph['Destination']).map(metro_dict)"
   ]
  },
  {
   "cell_type": "markdown",
   "id": "3a15470b",
   "metadata": {},
   "source": [
    "Create a LineString object between origin and Destination"
   ]
  },
  {
   "cell_type": "code",
   "execution_count": 231,
   "id": "c8494778",
   "metadata": {},
   "outputs": [],
   "source": [
    "a = []\n",
    "for i in range(len(metro_graph)):\n",
    "    a.append((LineString([metro_graph.p1[i],metro_graph.p2[i]])))\n",
    "\n",
    "metro_graph['LineString'] = a"
   ]
  },
  {
   "cell_type": "markdown",
   "id": "cc8bbd45",
   "metadata": {},
   "source": [
    "Transform the graph in a Geopandas Datframe"
   ]
  },
  {
   "cell_type": "code",
   "execution_count": 232,
   "id": "abe6808e",
   "metadata": {},
   "outputs": [],
   "source": [
    "metro_graph = gpd.GeoDataFrame(metro_graph)"
   ]
  },
  {
   "cell_type": "markdown",
   "id": "c07fcec4",
   "metadata": {},
   "source": [
    "## Calculate distance between nodes"
   ]
  },
  {
   "cell_type": "code",
   "execution_count": 233,
   "id": "11649309",
   "metadata": {},
   "outputs": [],
   "source": [
    "from shapely.geometry import LineString\n",
    "from shapely.ops import transform\n",
    "from functools import partial\n",
    "import pyproj"
   ]
  },
  {
   "cell_type": "markdown",
   "id": "4ea31f23",
   "metadata": {},
   "source": [
    "This function transforms the LineString distance in Meters"
   ]
  },
  {
   "cell_type": "code",
   "execution_count": 234,
   "id": "52dbcb58",
   "metadata": {},
   "outputs": [],
   "source": [
    "def transform_linestring(df):\n",
    "    \n",
    "    lenghts = []\n",
    "    project = partial(pyproj.transform, pyproj.Proj('EPSG:4326'), pyproj.Proj('EPSG:32633'))\n",
    "    for line in df.LineString:\n",
    "        lenghts.append(int(transform(project, line).length))\n",
    "    \n",
    "    df['distance_meters'] = lenghts"
   ]
  },
  {
   "cell_type": "code",
   "execution_count": 235,
   "id": "8e54e0c7",
   "metadata": {},
   "outputs": [],
   "source": [
    "transform_linestring(metro_graph)"
   ]
  },
  {
   "cell_type": "markdown",
   "id": "77be967d",
   "metadata": {},
   "source": [
    "We now have a graph with a distance attribute to calculate degree importance based on."
   ]
  },
  {
   "cell_type": "code",
   "execution_count": 236,
   "id": "399a1bfe",
   "metadata": {},
   "outputs": [],
   "source": [
    "G_distance = nx.from_pandas_edgelist(metro_graph, 'Origin', 'Destination',['distance_meters'])"
   ]
  },
  {
   "cell_type": "markdown",
   "id": "5e378177",
   "metadata": {},
   "source": [
    "### Degrees"
   ]
  },
  {
   "cell_type": "code",
   "execution_count": 237,
   "id": "0b1c8234",
   "metadata": {},
   "outputs": [],
   "source": [
    "#degree_sort = sorted(G_distance.degree(), key=lambda x: x[1], reverse=True)\n",
    "degrees = {node:val for (node, val) in G_distance.degree()}\n",
    "\n",
    "closeness = nx.closeness_centrality(G_distance, distance='distance_meters')\n",
    "\n",
    "between = nx.betweenness_centrality(G_distance, weight='distance_meters')\n",
    "\n",
    "eigen = nx.eigenvector_centrality(G_distance,max_iter=10000, weight='distance_meters')\n",
    "\n",
    "centrality = nx.degree_centrality(G_distance)"
   ]
  },
  {
   "cell_type": "code",
   "execution_count": 238,
   "id": "bcaa60f7",
   "metadata": {},
   "outputs": [],
   "source": [
    "betweness = pd.DataFrame.from_dict(between, orient='index').rename(columns = {0: 'Betweness'}).reset_index().rename(columns = {'index': 'station'})\n",
    "closeness = pd.DataFrame.from_dict(closeness, orient='index').rename(columns = {0: 'Closeness'}).reset_index().rename(columns = {'index': 'station'})\n",
    "eigeness = pd.DataFrame.from_dict(eigen, orient='index').rename(columns = {0: 'Eigeness'}).reset_index().rename(columns = {'index': 'station'})\n",
    "central = pd.DataFrame.from_dict(centrality, orient='index').rename(columns = {0: 'Centrality'}).reset_index().rename(columns = {'index': 'station'})\n",
    "Degree = pd.DataFrame.from_dict(degrees, orient='index').rename(columns = {0: 'Degree'}).reset_index().rename(columns = {'index': 'station'})\n",
    "\n",
    "weight = pd.merge(betweness, closeness, on='station')\n",
    "weight = pd.merge(weight, eigeness, on='station')\n",
    "weight = pd.merge(weight, central, on='station')\n",
    "weight = pd.merge(weight, Degree, on='station')"
   ]
  },
  {
   "cell_type": "markdown",
   "id": "b6a20b7d",
   "metadata": {},
   "source": [
    "# AIRBNB Dataset"
   ]
  },
  {
   "cell_type": "code",
   "execution_count": 239,
   "id": "d18ad30b",
   "metadata": {},
   "outputs": [],
   "source": [
    "df = pd.read_csv('listings.csv')\n",
    "df = df.rename(columns = {'geometry': 'Coordinate'})\n",
    "df = df.drop(columns = ['host_name', 'host_id', 'license', 'id', 'name'])"
   ]
  },
  {
   "cell_type": "code",
   "execution_count": 240,
   "id": "15676ea7",
   "metadata": {},
   "outputs": [],
   "source": [
    "#df.isna().sum()"
   ]
  },
  {
   "cell_type": "code",
   "execution_count": 241,
   "id": "6ff51938",
   "metadata": {},
   "outputs": [],
   "source": [
    "df = df.drop(columns = ['last_review', 'reviews_per_month'])"
   ]
  },
  {
   "cell_type": "markdown",
   "id": "0feac376",
   "metadata": {},
   "source": [
    "## One-hot encoding for room_type"
   ]
  },
  {
   "cell_type": "code",
   "execution_count": 242,
   "id": "4a37a9aa",
   "metadata": {},
   "outputs": [],
   "source": [
    "from sklearn.preprocessing import OneHotEncoder"
   ]
  },
  {
   "cell_type": "raw",
   "id": "64f8e89d",
   "metadata": {},
   "source": [
    "enc = OneHotEncoder(handle_unknown='ignore')\n",
    "enc_df = pd.DataFrame(enc.fit_transform(df[['room_type']]).toarray())\n",
    "df = df.join(enc_df)\n",
    "#df = df.drop(columns=['room_type'])"
   ]
  },
  {
   "cell_type": "markdown",
   "id": "063ab2a3",
   "metadata": {},
   "source": [
    "Consider just the lisboa district"
   ]
  },
  {
   "cell_type": "code",
   "execution_count": 243,
   "id": "b7ea87bd",
   "metadata": {},
   "outputs": [],
   "source": [
    "gdf = gpd.GeoDataFrame(df, geometry = gpd.points_from_xy(df.longitude, df.latitude))\n",
    "#gdf = gdf.drop(columns = ['longitude', 'latitude'])\n",
    "gdf = gdf.rename(columns = {'geometry': 'Coordinate'})\n",
    "gdf_lisboa = gdf[gdf.neighbourhood_group == 'Lisboa']"
   ]
  },
  {
   "cell_type": "markdown",
   "id": "81602056",
   "metadata": {},
   "source": [
    "Consider prices lower than 100 euros"
   ]
  },
  {
   "cell_type": "code",
   "execution_count": 244,
   "id": "c354ddf0",
   "metadata": {},
   "outputs": [],
   "source": [
    "gdf_lisboa = gdf_lisboa[gdf_lisboa['price'] < 100]"
   ]
  },
  {
   "cell_type": "markdown",
   "id": "9d662028",
   "metadata": {},
   "source": [
    "## Prices per room type"
   ]
  },
  {
   "cell_type": "code",
   "execution_count": 245,
   "id": "95b94152",
   "metadata": {},
   "outputs": [
    {
     "data": {
      "image/png": "[encoded data removed]",
      "text/plain": [
       "<Figure size 432x288 with 1 Axes>"
      ]
     },
     "metadata": {
      "needs_background": "light"
     },
     "output_type": "display_data"
    }
   ],
   "source": [
    "import seaborn as sns\n",
    "#sns.displot(data = gdf_lisboa, x = 'price', kde=True).set(title = 'Price distribution');\n",
    "sns.boxplot(data=gdf_lisboa, \n",
    "            y='price', \n",
    "            x='room_type').set(title='Distribution of prices per room type');"
   ]
  },
  {
   "cell_type": "markdown",
   "id": "876ee91f",
   "metadata": {},
   "source": [
    "## Minimum nights distribution"
   ]
  },
  {
   "cell_type": "code",
   "execution_count": 246,
   "id": "60901b31",
   "metadata": {},
   "outputs": [
    {
     "data": {
      "image/png": "[encoded data removed]",
      "text/plain": [
       "<Figure size 432x288 with 1 Axes>"
      ]
     },
     "metadata": {
      "needs_background": "light"
     },
     "output_type": "display_data"
    }
   ],
   "source": [
    "sns.boxplot(data = gdf_lisboa[['minimum_nights']], \n",
    "            y='minimum_nights').set(title = 'Minimum nights complete distribution');"
   ]
  },
  {
   "cell_type": "code",
   "execution_count": 247,
   "id": "e148788d",
   "metadata": {},
   "outputs": [
    {
     "data": {
      "image/png": "[encoded data removed]",
      "text/plain": [
       "<Figure size 432x288 with 1 Axes>"
      ]
     },
     "metadata": {
      "needs_background": "light"
     },
     "output_type": "display_data"
    }
   ],
   "source": [
    "sns.boxplot(data = gdf_lisboa[gdf_lisboa['minimum_nights'] < 10], \n",
    "            y='minimum_nights').set(title = 'Minimum nights reduced distribution');"
   ]
  },
  {
   "cell_type": "markdown",
   "id": "ea5d61ca",
   "metadata": {},
   "source": [
    "It's safe to consider just 10 minimum nights, since most of the observations resides between 1 and 4 minimum nights"
   ]
  },
  {
   "cell_type": "code",
   "execution_count": 248,
   "id": "3a3c8e8a",
   "metadata": {},
   "outputs": [],
   "source": [
    "gdf_lisboa = gdf_lisboa[gdf_lisboa['minimum_nights'] < 10]"
   ]
  },
  {
   "cell_type": "markdown",
   "id": "47191193",
   "metadata": {},
   "source": [
    "## Distribution of reviews per room_type"
   ]
  },
  {
   "cell_type": "code",
   "execution_count": 249,
   "id": "adb5a0bf",
   "metadata": {},
   "outputs": [
    {
     "data": {
      "image/png": "[encoded data removed]",
      "text/plain": [
       "<Figure size 432x288 with 1 Axes>"
      ]
     },
     "metadata": {
      "needs_background": "light"
     },
     "output_type": "display_data"
    }
   ],
   "source": [
    "sns.boxplot(data = gdf_lisboa, \n",
    "            y ='number_of_reviews', \n",
    "            x='room_type',).set(title = 'Complete distribution of reviews per room_type');"
   ]
  },
  {
   "cell_type": "markdown",
   "id": "8cc842e7",
   "metadata": {},
   "source": [
    "We observe that the distribution of number of reviews contains many outliers for all the three kind of houses. We decide to keep the observations until 400 without deleting the ouliers based on 2 assumptions:\n",
    "1) The number of outliers is consistent and relevant for the analysis.\\\n",
    "2) Ideally, a house with more reviews is a popular house on Airbnb, hence relevant for the analysis."
   ]
  },
  {
   "cell_type": "code",
   "execution_count": 250,
   "id": "c8b1c47e",
   "metadata": {},
   "outputs": [],
   "source": [
    "gdf_lisboa = gdf_lisboa[gdf_lisboa['number_of_reviews'] < 400]"
   ]
  },
  {
   "cell_type": "code",
   "execution_count": 251,
   "id": "18d3ee96",
   "metadata": {},
   "outputs": [],
   "source": [
    "gdf_lisboa = gdf_lisboa.reset_index()"
   ]
  },
  {
   "cell_type": "markdown",
   "id": "8754f089",
   "metadata": {},
   "source": [
    "## Assinging a specific weight to each metro station based on its:"
   ]
  },
  {
   "cell_type": "markdown",
   "id": "ae0039f2",
   "metadata": {},
   "source": [
    "1) Degree (#of connections)\\\n",
    "2) Eigenvector Centrality value\\\n",
    "3) Betweness value"
   ]
  },
  {
   "cell_type": "code",
   "execution_count": 252,
   "id": "2640ff86",
   "metadata": {},
   "outputs": [],
   "source": [
    "weight['grade']=weight['Degree'] + weight['Eigeness']*5 + weight['Betweness']*5\n",
    "# the values of the Eigenvector and Betwennes variables are multiplied by a factor of 5 in order to give them a higher relevance, \n",
    "#their importance would infact otherwise be obscured by the Degree variable which is by it own nature of a higher order of magnitude."
   ]
  },
  {
   "cell_type": "code",
   "execution_count": 253,
   "id": "cc3216ca",
   "metadata": {},
   "outputs": [],
   "source": [
    "metro['station grade'] = weight['grade']"
   ]
  },
  {
   "cell_type": "code",
   "execution_count": 254,
   "id": "7c9b6ff8",
   "metadata": {},
   "outputs": [],
   "source": [
    "weight['degree_mean'] = weight.iloc[:,1:4].mean(axis=1)"
   ]
  },
  {
   "cell_type": "code",
   "execution_count": 255,
   "id": "4fbf21ae",
   "metadata": {},
   "outputs": [],
   "source": [
    "lines_dict = dict(zip(metro.NOME, metro.LINHA))\n",
    "station_coord = dict(zip(metro.NOME, metro.geometry))\n",
    "\n",
    "weight['line_color'] = (weight['station']).map(lines_dict)\n",
    "weight['Coordinate'] = (weight['station']).map(station_coord)"
   ]
  },
  {
   "cell_type": "markdown",
   "id": "8d716049",
   "metadata": {},
   "source": [
    "## Function that gives the distance in meters from a specified point to each metro station"
   ]
  },
  {
   "cell_type": "markdown",
   "id": "caa7861c",
   "metadata": {},
   "source": [
    "## Deleting columns in excess"
   ]
  },
  {
   "cell_type": "code",
   "execution_count": 256,
   "id": "63d835eb",
   "metadata": {},
   "outputs": [],
   "source": [
    "weight = weight.drop(columns = weight.iloc[:,9:-1].columns.tolist())\n",
    "weight = weight.drop(columns = weight.iloc[:,1:4].columns.tolist())"
   ]
  },
  {
   "cell_type": "code",
   "execution_count": 257,
   "id": "cd968828",
   "metadata": {},
   "outputs": [
    {
     "data": {
      "text/html": [
       "<div>\n",
       "<style scoped>\n",
       "    .dataframe tbody tr th:only-of-type {\n",
       "        vertical-align: middle;\n",
       "    }\n",
       "\n",
       "    .dataframe tbody tr th {\n",
       "        vertical-align: top;\n",
       "    }\n",
       "\n",
       "    .dataframe thead th {\n",
       "        text-align: right;\n",
       "    }\n",
       "</style>\n",
       "<table border=\"1\" class=\"dataframe\">\n",
       "  <thead>\n",
       "    <tr style=\"text-align: right;\">\n",
       "      <th></th>\n",
       "      <th>station</th>\n",
       "      <th>Centrality</th>\n",
       "      <th>Degree</th>\n",
       "      <th>grade</th>\n",
       "      <th>degree_mean</th>\n",
       "      <th>line_color</th>\n",
       "      <th>Coordinate</th>\n",
       "    </tr>\n",
       "  </thead>\n",
       "  <tbody>\n",
       "    <tr>\n",
       "      <th>0</th>\n",
       "      <td>Reboleira</td>\n",
       "      <td>0.020408</td>\n",
       "      <td>1</td>\n",
       "      <td>1.000073</td>\n",
       "      <td>0.000030</td>\n",
       "      <td>Azul</td>\n",
       "      <td>POINT (-9.223883295575069 38.752271287954)</td>\n",
       "    </tr>\n",
       "    <tr>\n",
       "      <th>1</th>\n",
       "      <td>Amadora Este</td>\n",
       "      <td>0.040816</td>\n",
       "      <td>2</td>\n",
       "      <td>2.204270</td>\n",
       "      <td>0.013646</td>\n",
       "      <td>Azul</td>\n",
       "      <td>POINT (-9.217901617117381 38.758715859802)</td>\n",
       "    </tr>\n",
       "    <tr>\n",
       "      <th>2</th>\n",
       "      <td>Alfornelos</td>\n",
       "      <td>0.040816</td>\n",
       "      <td>2</td>\n",
       "      <td>2.399926</td>\n",
       "      <td>0.026693</td>\n",
       "      <td>Azul</td>\n",
       "      <td>POINT (-9.204477478277459 38.7605071115253)</td>\n",
       "    </tr>\n",
       "    <tr>\n",
       "      <th>3</th>\n",
       "      <td>Pontinha</td>\n",
       "      <td>0.040816</td>\n",
       "      <td>2</td>\n",
       "      <td>2.587180</td>\n",
       "      <td>0.039180</td>\n",
       "      <td>Azul</td>\n",
       "      <td>POINT (-9.196937374617089 38.7623917163549)</td>\n",
       "    </tr>\n",
       "    <tr>\n",
       "      <th>4</th>\n",
       "      <td>Carnide</td>\n",
       "      <td>0.040816</td>\n",
       "      <td>2</td>\n",
       "      <td>2.766813</td>\n",
       "      <td>0.051157</td>\n",
       "      <td>Azul</td>\n",
       "      <td>POINT (-9.19273248473962 38.7591726199562)</td>\n",
       "    </tr>\n",
       "  </tbody>\n",
       "</table>\n",
       "</div>"
      ],
      "text/plain": [
       "        station  Centrality  Degree     grade  degree_mean line_color  \\\n",
       "0     Reboleira    0.020408       1  1.000073     0.000030       Azul   \n",
       "1  Amadora Este    0.040816       2  2.204270     0.013646       Azul   \n",
       "2    Alfornelos    0.040816       2  2.399926     0.026693       Azul   \n",
       "3      Pontinha    0.040816       2  2.587180     0.039180       Azul   \n",
       "4       Carnide    0.040816       2  2.766813     0.051157       Azul   \n",
       "\n",
       "                                    Coordinate  \n",
       "0   POINT (-9.223883295575069 38.752271287954)  \n",
       "1   POINT (-9.217901617117381 38.758715859802)  \n",
       "2  POINT (-9.204477478277459 38.7605071115253)  \n",
       "3  POINT (-9.196937374617089 38.7623917163549)  \n",
       "4   POINT (-9.19273248473962 38.7591726199562)  "
      ]
     },
     "execution_count": 257,
     "metadata": {},
     "output_type": "execute_result"
    }
   ],
   "source": [
    "weight.head()"
   ]
  },
  {
   "cell_type": "markdown",
   "id": "2685c9c3",
   "metadata": {},
   "source": [
    "# Correlation analysis between house price and distance from relevant areas of the city\n",
    "\n",
    "Here we want to check if house prices is also affected by their location within the city. \n",
    "If we find any sort of correlation, we'll be able to strip this price component from the price itself, so that the following correlation analysis with the distance from the closest metro station will be more accurate, because it won't take into account the component of the price that varies due to a different factor."
   ]
  },
  {
   "cell_type": "code",
   "execution_count": 258,
   "id": "a7af3abc",
   "metadata": {},
   "outputs": [],
   "source": [
    "#list of monuments and areas that were considered potentially relevant for the variation of hous prices\n",
    "list_of_monuments_2= {'Elevador de Santa Justa': ((-9.139221, 38.712173), 1),\n",
    "                    'Praça do Comércio': ((-9.136744, 38.707779), 1),\n",
    "                     'Marques d Pobal' : ((-9.149809571870293, 38.72520372326393 ),1),\n",
    "                     'Praca dom luois I' : (( -9.14651051085467, 38.70696585893371),1),\n",
    "                     'Jardim Guerra Junqueiro (Jardim da Estrela)' : ((-9.157568180154488, 38.715165895486756),1),\n",
    "                     'Miradouro de São Pedro de Alcântara' : ((-9.144383380607636, 38.714999758691214 ), 1),\n",
    "                     'Assembly of the Republic' : (( -9.154170376301336, 38.71222285831986),1)\n",
    "                     }"
   ]
  },
  {
   "cell_type": "markdown",
   "id": "40129dc7",
   "metadata": {},
   "source": [
    "## The cell below is the one in which to insert the final reduced dataframe"
   ]
  },
  {
   "cell_type": "code",
   "execution_count": 259,
   "id": "a1ca21ae",
   "metadata": {},
   "outputs": [],
   "source": [
    "#sorting dataset based on houses average distances from points of interest\n",
    "#slicing dataset based on house type\n",
    "#excluding from the analysis houses with a price higher than 150€ per night.\n",
    "df = gdf_lisboa.copy()\n",
    "df_red = df[df['price']<150]\n",
    "df_red_apt=df_red[df_red['room_type']=='Entire home/apt']\n",
    "df_red_rooms=df_red[df_red['room_type']=='Private room']\n",
    "df_red_hotel=df_red[df_red['room_type']=='Hotel room']\n",
    "df_red_shared=df_red[df_red['room_type']=='Shared room']"
   ]
  },
  {
   "cell_type": "markdown",
   "id": "6e9907b9",
   "metadata": {},
   "source": [
    "Function computing average distance between a given house and every given point of interest"
   ]
  },
  {
   "cell_type": "code",
   "execution_count": 260,
   "id": "f6329af8",
   "metadata": {},
   "outputs": [],
   "source": [
    "import geopy\n",
    "\n",
    "#computing average distance between a given house and every given point of interest\n",
    "\n",
    "def house_avg_distance(monuments, houses,j):  \n",
    "    tot_dist=0\n",
    "    for i in range(len(monuments)):\n",
    "        \n",
    "        coord_1=(list(monuments.values())[i][0][1],list(monuments.values())[i][0][0])\n",
    "        coord_2=(houses.latitude[j],houses.longitude[j])\n",
    "        \n",
    "        distance=geopy.distance.distance(coord_1, coord_2).km\n",
    "        tot_dist=tot_dist+distance\n",
    "    avg_dst=(tot_dist/len(monuments))*10\n",
    "    \n",
    "    return(avg_dst)   \n",
    "    \n",
    "    "
   ]
  },
  {
   "cell_type": "markdown",
   "id": "c4c6324e",
   "metadata": {},
   "source": [
    "Function computing average distance form points of interest for each house in the dataset"
   ]
  },
  {
   "cell_type": "code",
   "execution_count": 261,
   "id": "98e01eee",
   "metadata": {},
   "outputs": [],
   "source": [
    "def distances(houses, monuments):\n",
    "    avg_distances_list=[]   \n",
    "    for i in range(len(houses)):\n",
    "        avg_distances=house_avg_distance(monuments,df,i)\n",
    "        avg_distances_list.append(avg_distances)\n",
    "    houses['avg interest points-house distance'] = avg_distances_list"
   ]
  },
  {
   "cell_type": "code",
   "execution_count": 262,
   "id": "f827a1fc",
   "metadata": {},
   "outputs": [],
   "source": [
    "#computing the distance from points of interest of every single house in every subdataset\n",
    "distances(df_red_apt, list_of_monuments_2)\n",
    "distances(df_red_rooms, list_of_monuments_2)\n",
    "distances(df_red_hotel, list_of_monuments_2)\n",
    "distances(df_red_shared, list_of_monuments_2)"
   ]
  },
  {
   "cell_type": "markdown",
   "id": "5646397c",
   "metadata": {},
   "source": [
    "# In the cell below I'm reducing the number of houses considered to the ones that have an average distance from points of interest below 20km \n",
    "ale quando andrai a buttare dentro il data set giusto probabilmente questa cella non servirà\n"
   ]
  },
  {
   "cell_type": "code",
   "execution_count": 263,
   "id": "b249380c",
   "metadata": {},
   "outputs": [
    {
     "name": "stdout",
     "output_type": "stream",
     "text": [
      "4652\n",
      "6908\n"
     ]
    }
   ],
   "source": [
    "print(len(df_red_apt[df_red_apt['avg interest points-house distance'] < 20]))\n",
    "print(len(df_red_apt))"
   ]
  },
  {
   "cell_type": "code",
   "execution_count": 264,
   "id": "c2d5b274",
   "metadata": {},
   "outputs": [],
   "source": [
    "#generates scatter plot for every sub_dataset provided to the function\n",
    "def plot_gen(df):\n",
    "    x = df['avg interest points-house distance']\n",
    "    y = df['price']\n",
    "    plt.scatter(x, y)\n",
    "    plt.title(f'relation between distance from points of interest and price for {df.room_type.iloc[0]}')\n",
    "    plt.xlabel('avg distance')\n",
    "    plt.ylabel('price')\n",
    "    plt.show()"
   ]
  },
  {
   "cell_type": "code",
   "execution_count": 265,
   "id": "412f1891",
   "metadata": {},
   "outputs": [
    {
     "data": {
      "image/png": "[encoded data removed]",
      "text/plain": [
       "<Figure size 432x288 with 1 Axes>"
      ]
     },
     "metadata": {
      "needs_background": "light"
     },
     "output_type": "display_data"
    },
    {
     "data": {
      "image/png": "[encoded data removed]",
      "text/plain": [
       "<Figure size 432x288 with 1 Axes>"
      ]
     },
     "metadata": {
      "needs_background": "light"
     },
     "output_type": "display_data"
    },
    {
     "data": {
      "image/png": "[encoded data removed]",
      "text/plain": [
       "<Figure size 432x288 with 1 Axes>"
      ]
     },
     "metadata": {
      "needs_background": "light"
     },
     "output_type": "display_data"
    },
    {
     "data": {
      "image/png": "[encoded data removed]",
      "text/plain": [
       "<Figure size 432x288 with 1 Axes>"
      ]
     },
     "metadata": {
      "needs_background": "light"
     },
     "output_type": "display_data"
    }
   ],
   "source": [
    "#scatter plots of every sub_dataset representing relation between price and average distance form points of interest\n",
    "#in some of them we can already see a bit of a correlation between distance from points of interest and price.\n",
    "\n",
    "plot_gen(df_red_apt[df_red_apt['avg interest points-house distance']<20])\n",
    "for i in [df_red_rooms, df_red_hotel, df_red_shared]:\n",
    "    plot_gen(i)"
   ]
  },
  {
   "cell_type": "markdown",
   "id": "3eb01f3a",
   "metadata": {},
   "source": [
    "### Graphs above are showing pretty clearly the absence of a significant correlation between house prices and ther closeness to potentially relevant areas. this means that in the following analyis we'll be able to consider the prices as they are without the need to manipulate them, because there is no evident component (that we can compute with the available data) that is affecting the prices."
   ]
  },
  {
   "cell_type": "code",
   "execution_count": 266,
   "id": "10eec6a9",
   "metadata": {},
   "outputs": [
    {
     "data": {
      "text/plain": [
       "{'correlation for apt': 0.023504714752182167,\n",
       " 'correlation for rooms': -0.03345859365182565,\n",
       " 'correlation for hotel': 0.1003009916014469,\n",
       " 'correlation for shared rooms': 0.04699090682064793}"
      ]
     },
     "execution_count": 266,
     "metadata": {},
     "output_type": "execute_result"
    }
   ],
   "source": [
    "#showing current correlation values between average distances and prices, as the graphs above were already suggesting there is no relevant correlation \n",
    "#between the two variables\n",
    "correlations={'correlation for apt' : df_red_apt['price'].corr(df_red_apt['avg interest points-house distance']),\n",
    "             'correlation for rooms' : df_red_rooms['price'].corr(df_red_rooms['avg interest points-house distance']),\n",
    "             'correlation for hotel' : df_red_hotel['price'].corr(df_red_hotel['avg interest points-house distance']),\n",
    "             'correlation for shared rooms' : df_red_shared['price'].corr(df_red_shared['avg interest points-house distance'])}\n",
    "correlations"
   ]
  },
  {
   "cell_type": "markdown",
   "id": "0dd6b4b8",
   "metadata": {},
   "source": [
    "# Finding the closest metro station to every single house and the distance from it and attaching said information to the correspondent dataset\n"
   ]
  },
  {
   "cell_type": "code",
   "execution_count": 267,
   "id": "060a321e",
   "metadata": {},
   "outputs": [],
   "source": [
    "metro = metro.set_index('NOME')"
   ]
  },
  {
   "cell_type": "code",
   "execution_count": 268,
   "id": "d838bf4e",
   "metadata": {},
   "outputs": [],
   "source": [
    "#finds the closest metro station to a given house and computes the distance from it \n",
    "def closest_metro_station_finder(metro, houses, j):\n",
    "    dist_stat=[]\n",
    "    h_m_dist={}\n",
    "    for i in range(len(metro)):\n",
    "            point=metro.geometry[i]\n",
    "            x=point.y\n",
    "            y=point.x\n",
    "            coord_1=(x, y)\n",
    "            coord_2=(houses.latitude.iloc[j], houses.longitude.iloc[j])\n",
    "            distance=geopy.distance.distance(coord_1, coord_2).km\n",
    "            h_m_dist[metro.index[i]]=distance\n",
    "    h_m_v=list(h_m_dist.values())\n",
    "    h_m_k=list(h_m_dist.keys())\n",
    "    closest_st=min(h_m_v)\n",
    "    ind=h_m_v.index(closest_st)\n",
    "    station=h_m_k[ind]\n",
    "    dist_stat.append(closest_st)\n",
    "    dist_stat.append(station)\n",
    "    return dist_stat"
   ]
  },
  {
   "cell_type": "code",
   "execution_count": 269,
   "id": "83ee014d",
   "metadata": {},
   "outputs": [],
   "source": [
    "#using function above to find closest metro station and relative distance from every house in the subdataset containing shared bedrooms only\n",
    "distances=[]\n",
    "stations=[] \n",
    "\n",
    "for i in range(len(df_red_shared)):\n",
    "    new_list=closest_metro_station_finder(metro, df_red_shared, i)\n",
    "    distances.append(new_list[0])\n",
    "    stations.append(new_list[1])\n",
    "    \n",
    "df_red_shared['closest station']=stations\n",
    "df_red_shared['distance from closest station']=distances"
   ]
  },
  {
   "cell_type": "code",
   "execution_count": 270,
   "id": "8413c8b8",
   "metadata": {},
   "outputs": [
    {
     "data": {
      "text/html": [
       "<div>\n",
       "<style scoped>\n",
       "    .dataframe tbody tr th:only-of-type {\n",
       "        vertical-align: middle;\n",
       "    }\n",
       "\n",
       "    .dataframe tbody tr th {\n",
       "        vertical-align: top;\n",
       "    }\n",
       "\n",
       "    .dataframe thead th {\n",
       "        text-align: right;\n",
       "    }\n",
       "</style>\n",
       "<table border=\"1\" class=\"dataframe\">\n",
       "  <thead>\n",
       "    <tr style=\"text-align: right;\">\n",
       "      <th></th>\n",
       "      <th>index</th>\n",
       "      <th>neighbourhood_group</th>\n",
       "      <th>neighbourhood</th>\n",
       "      <th>latitude</th>\n",
       "      <th>longitude</th>\n",
       "      <th>room_type</th>\n",
       "      <th>price</th>\n",
       "      <th>minimum_nights</th>\n",
       "      <th>number_of_reviews</th>\n",
       "      <th>calculated_host_listings_count</th>\n",
       "      <th>availability_365</th>\n",
       "      <th>number_of_reviews_ltm</th>\n",
       "      <th>Coordinate</th>\n",
       "      <th>avg interest points-house distance</th>\n",
       "      <th>closest station</th>\n",
       "      <th>distance from closest station</th>\n",
       "    </tr>\n",
       "  </thead>\n",
       "  <tbody>\n",
       "    <tr>\n",
       "      <th>62</th>\n",
       "      <td>117</td>\n",
       "      <td>Lisboa</td>\n",
       "      <td>Campolide</td>\n",
       "      <td>38.72851</td>\n",
       "      <td>-9.16644</td>\n",
       "      <td>Shared room</td>\n",
       "      <td>20</td>\n",
       "      <td>2</td>\n",
       "      <td>49</td>\n",
       "      <td>2</td>\n",
       "      <td>310</td>\n",
       "      <td>0</td>\n",
       "      <td>POINT (-9.16644 38.72851)</td>\n",
       "      <td>48.089863</td>\n",
       "      <td>Praça de Espanha</td>\n",
       "      <td>1.208433</td>\n",
       "    </tr>\n",
       "    <tr>\n",
       "      <th>336</th>\n",
       "      <td>624</td>\n",
       "      <td>Lisboa</td>\n",
       "      <td>Areeiro</td>\n",
       "      <td>38.73862</td>\n",
       "      <td>-9.13547</td>\n",
       "      <td>Shared room</td>\n",
       "      <td>15</td>\n",
       "      <td>1</td>\n",
       "      <td>114</td>\n",
       "      <td>3</td>\n",
       "      <td>334</td>\n",
       "      <td>1</td>\n",
       "      <td>POINT (-9.13547 38.73862)</td>\n",
       "      <td>18.342461</td>\n",
       "      <td>Alameda</td>\n",
       "      <td>0.230324</td>\n",
       "    </tr>\n",
       "    <tr>\n",
       "      <th>343</th>\n",
       "      <td>634</td>\n",
       "      <td>Lisboa</td>\n",
       "      <td>Santo Antnio</td>\n",
       "      <td>38.72372</td>\n",
       "      <td>-9.14687</td>\n",
       "      <td>Shared room</td>\n",
       "      <td>14</td>\n",
       "      <td>1</td>\n",
       "      <td>49</td>\n",
       "      <td>7</td>\n",
       "      <td>357</td>\n",
       "      <td>17</td>\n",
       "      <td>POINT (-9.14687 38.72372)</td>\n",
       "      <td>18.321832</td>\n",
       "      <td>Marquês de Pombal</td>\n",
       "      <td>0.328256</td>\n",
       "    </tr>\n",
       "    <tr>\n",
       "      <th>996</th>\n",
       "      <td>1937</td>\n",
       "      <td>Lisboa</td>\n",
       "      <td>Misericrdia</td>\n",
       "      <td>38.71382</td>\n",
       "      <td>-9.14471</td>\n",
       "      <td>Shared room</td>\n",
       "      <td>13</td>\n",
       "      <td>1</td>\n",
       "      <td>59</td>\n",
       "      <td>10</td>\n",
       "      <td>336</td>\n",
       "      <td>0</td>\n",
       "      <td>POINT (-9.14471 38.71382)</td>\n",
       "      <td>16.084885</td>\n",
       "      <td>Restauradores</td>\n",
       "      <td>0.339448</td>\n",
       "    </tr>\n",
       "    <tr>\n",
       "      <th>999</th>\n",
       "      <td>1940</td>\n",
       "      <td>Lisboa</td>\n",
       "      <td>Misericrdia</td>\n",
       "      <td>38.71379</td>\n",
       "      <td>-9.14319</td>\n",
       "      <td>Shared room</td>\n",
       "      <td>14</td>\n",
       "      <td>1</td>\n",
       "      <td>45</td>\n",
       "      <td>10</td>\n",
       "      <td>364</td>\n",
       "      <td>10</td>\n",
       "      <td>POINT (-9.14319 38.71379)</td>\n",
       "      <td>36.540479</td>\n",
       "      <td>Restauradores</td>\n",
       "      <td>0.283691</td>\n",
       "    </tr>\n",
       "  </tbody>\n",
       "</table>\n",
       "</div>"
      ],
      "text/plain": [
       "     index neighbourhood_group neighbourhood  latitude  longitude  \\\n",
       "62     117              Lisboa     Campolide  38.72851   -9.16644   \n",
       "336    624              Lisboa       Areeiro  38.73862   -9.13547   \n",
       "343    634              Lisboa  Santo Antnio  38.72372   -9.14687   \n",
       "996   1937              Lisboa   Misericrdia  38.71382   -9.14471   \n",
       "999   1940              Lisboa   Misericrdia  38.71379   -9.14319   \n",
       "\n",
       "       room_type  price  minimum_nights  number_of_reviews  \\\n",
       "62   Shared room     20               2                 49   \n",
       "336  Shared room     15               1                114   \n",
       "343  Shared room     14               1                 49   \n",
       "996  Shared room     13               1                 59   \n",
       "999  Shared room     14               1                 45   \n",
       "\n",
       "     calculated_host_listings_count  availability_365  number_of_reviews_ltm  \\\n",
       "62                                2               310                      0   \n",
       "336                               3               334                      1   \n",
       "343                               7               357                     17   \n",
       "996                              10               336                      0   \n",
       "999                              10               364                     10   \n",
       "\n",
       "                    Coordinate  avg interest points-house distance  \\\n",
       "62   POINT (-9.16644 38.72851)                           48.089863   \n",
       "336  POINT (-9.13547 38.73862)                           18.342461   \n",
       "343  POINT (-9.14687 38.72372)                           18.321832   \n",
       "996  POINT (-9.14471 38.71382)                           16.084885   \n",
       "999  POINT (-9.14319 38.71379)                           36.540479   \n",
       "\n",
       "       closest station  distance from closest station  \n",
       "62    Praça de Espanha                       1.208433  \n",
       "336            Alameda                       0.230324  \n",
       "343  Marquês de Pombal                       0.328256  \n",
       "996      Restauradores                       0.339448  \n",
       "999      Restauradores                       0.283691  "
      ]
     },
     "execution_count": 270,
     "metadata": {},
     "output_type": "execute_result"
    }
   ],
   "source": [
    "df_red_shared.head()"
   ]
  },
  {
   "cell_type": "code",
   "execution_count": 271,
   "id": "be5abdb1",
   "metadata": {},
   "outputs": [
    {
     "name": "stdout",
     "output_type": "stream",
     "text": [
      "137.9961440563202\n"
     ]
    }
   ],
   "source": [
    "#using function above to find closest metro station and relative distance from every house in the subdataset containing entire apartments only\n",
    "import time\n",
    "distances=[]\n",
    "stations=[] \n",
    "\n",
    "start = time.time()\n",
    "\n",
    "for i in range(len(df_red_apt)):\n",
    "    new_list=closest_metro_station_finder(metro, df_red_apt, i)\n",
    "    distances.append(new_list[0])\n",
    "    stations.append(new_list[1])\n",
    "    \n",
    "df_red_apt['closest station']=stations\n",
    "df_red_apt['distance from closest station']=distances\n",
    "\n",
    "\n",
    "end = time.time()\n",
    "print(end - start)"
   ]
  },
  {
   "cell_type": "code",
   "execution_count": 272,
   "id": "5ca56185",
   "metadata": {},
   "outputs": [
    {
     "data": {
      "text/html": [
       "<div>\n",
       "<style scoped>\n",
       "    .dataframe tbody tr th:only-of-type {\n",
       "        vertical-align: middle;\n",
       "    }\n",
       "\n",
       "    .dataframe tbody tr th {\n",
       "        vertical-align: top;\n",
       "    }\n",
       "\n",
       "    .dataframe thead th {\n",
       "        text-align: right;\n",
       "    }\n",
       "</style>\n",
       "<table border=\"1\" class=\"dataframe\">\n",
       "  <thead>\n",
       "    <tr style=\"text-align: right;\">\n",
       "      <th></th>\n",
       "      <th>index</th>\n",
       "      <th>neighbourhood_group</th>\n",
       "      <th>neighbourhood</th>\n",
       "      <th>latitude</th>\n",
       "      <th>longitude</th>\n",
       "      <th>room_type</th>\n",
       "      <th>price</th>\n",
       "      <th>minimum_nights</th>\n",
       "      <th>number_of_reviews</th>\n",
       "      <th>calculated_host_listings_count</th>\n",
       "      <th>availability_365</th>\n",
       "      <th>number_of_reviews_ltm</th>\n",
       "      <th>Coordinate</th>\n",
       "      <th>avg interest points-house distance</th>\n",
       "      <th>closest station</th>\n",
       "      <th>distance from closest station</th>\n",
       "    </tr>\n",
       "  </thead>\n",
       "  <tbody>\n",
       "    <tr>\n",
       "      <th>0</th>\n",
       "      <td>0</td>\n",
       "      <td>Lisboa</td>\n",
       "      <td>Belm</td>\n",
       "      <td>38.69750</td>\n",
       "      <td>-9.19768</td>\n",
       "      <td>Entire home/apt</td>\n",
       "      <td>40</td>\n",
       "      <td>3</td>\n",
       "      <td>32</td>\n",
       "      <td>1</td>\n",
       "      <td>315</td>\n",
       "      <td>6</td>\n",
       "      <td>POINT (-9.19768 38.69750)</td>\n",
       "      <td>48.089863</td>\n",
       "      <td>Rato</td>\n",
       "      <td>4.503949</td>\n",
       "    </tr>\n",
       "    <tr>\n",
       "      <th>1</th>\n",
       "      <td>1</td>\n",
       "      <td>Lisboa</td>\n",
       "      <td>Santa Maria Maior</td>\n",
       "      <td>38.71241</td>\n",
       "      <td>-9.12706</td>\n",
       "      <td>Entire home/apt</td>\n",
       "      <td>50</td>\n",
       "      <td>2</td>\n",
       "      <td>127</td>\n",
       "      <td>1</td>\n",
       "      <td>325</td>\n",
       "      <td>14</td>\n",
       "      <td>POINT (-9.12706 38.71241)</td>\n",
       "      <td>18.342461</td>\n",
       "      <td>Santa Apolónia</td>\n",
       "      <td>0.443087</td>\n",
       "    </tr>\n",
       "    <tr>\n",
       "      <th>2</th>\n",
       "      <td>2</td>\n",
       "      <td>Lisboa</td>\n",
       "      <td>Santa Maria Maior</td>\n",
       "      <td>38.71082</td>\n",
       "      <td>-9.12719</td>\n",
       "      <td>Entire home/apt</td>\n",
       "      <td>60</td>\n",
       "      <td>5</td>\n",
       "      <td>337</td>\n",
       "      <td>1</td>\n",
       "      <td>190</td>\n",
       "      <td>13</td>\n",
       "      <td>POINT (-9.12719 38.71082)</td>\n",
       "      <td>18.321832</td>\n",
       "      <td>Santa Apolónia</td>\n",
       "      <td>0.548231</td>\n",
       "    </tr>\n",
       "    <tr>\n",
       "      <th>3</th>\n",
       "      <td>3</td>\n",
       "      <td>Lisboa</td>\n",
       "      <td>Santa Maria Maior</td>\n",
       "      <td>38.71156</td>\n",
       "      <td>-9.12987</td>\n",
       "      <td>Entire home/apt</td>\n",
       "      <td>60</td>\n",
       "      <td>2</td>\n",
       "      <td>299</td>\n",
       "      <td>1</td>\n",
       "      <td>302</td>\n",
       "      <td>40</td>\n",
       "      <td>POINT (-9.12987 38.71156)</td>\n",
       "      <td>16.084885</td>\n",
       "      <td>Terreiro do Paço</td>\n",
       "      <td>0.605491</td>\n",
       "    </tr>\n",
       "    <tr>\n",
       "      <th>4</th>\n",
       "      <td>5</td>\n",
       "      <td>Lisboa</td>\n",
       "      <td>Avenidas Novas</td>\n",
       "      <td>38.74571</td>\n",
       "      <td>-9.15264</td>\n",
       "      <td>Entire home/apt</td>\n",
       "      <td>50</td>\n",
       "      <td>5</td>\n",
       "      <td>46</td>\n",
       "      <td>1</td>\n",
       "      <td>228</td>\n",
       "      <td>8</td>\n",
       "      <td>POINT (-9.15264 38.74571)</td>\n",
       "      <td>36.540479</td>\n",
       "      <td>Entre Campos</td>\n",
       "      <td>0.417752</td>\n",
       "    </tr>\n",
       "  </tbody>\n",
       "</table>\n",
       "</div>"
      ],
      "text/plain": [
       "   index neighbourhood_group      neighbourhood  latitude  longitude  \\\n",
       "0      0              Lisboa               Belm  38.69750   -9.19768   \n",
       "1      1              Lisboa  Santa Maria Maior  38.71241   -9.12706   \n",
       "2      2              Lisboa  Santa Maria Maior  38.71082   -9.12719   \n",
       "3      3              Lisboa  Santa Maria Maior  38.71156   -9.12987   \n",
       "4      5              Lisboa     Avenidas Novas  38.74571   -9.15264   \n",
       "\n",
       "         room_type  price  minimum_nights  number_of_reviews  \\\n",
       "0  Entire home/apt     40               3                 32   \n",
       "1  Entire home/apt     50               2                127   \n",
       "2  Entire home/apt     60               5                337   \n",
       "3  Entire home/apt     60               2                299   \n",
       "4  Entire home/apt     50               5                 46   \n",
       "\n",
       "   calculated_host_listings_count  availability_365  number_of_reviews_ltm  \\\n",
       "0                               1               315                      6   \n",
       "1                               1               325                     14   \n",
       "2                               1               190                     13   \n",
       "3                               1               302                     40   \n",
       "4                               1               228                      8   \n",
       "\n",
       "                  Coordinate  avg interest points-house distance  \\\n",
       "0  POINT (-9.19768 38.69750)                           48.089863   \n",
       "1  POINT (-9.12706 38.71241)                           18.342461   \n",
       "2  POINT (-9.12719 38.71082)                           18.321832   \n",
       "3  POINT (-9.12987 38.71156)                           16.084885   \n",
       "4  POINT (-9.15264 38.74571)                           36.540479   \n",
       "\n",
       "    closest station  distance from closest station  \n",
       "0              Rato                       4.503949  \n",
       "1    Santa Apolónia                       0.443087  \n",
       "2    Santa Apolónia                       0.548231  \n",
       "3  Terreiro do Paço                       0.605491  \n",
       "4      Entre Campos                       0.417752  "
      ]
     },
     "execution_count": 272,
     "metadata": {},
     "output_type": "execute_result"
    }
   ],
   "source": [
    "df_red_apt.head()"
   ]
  },
  {
   "cell_type": "code",
   "execution_count": 273,
   "id": "3190e149",
   "metadata": {},
   "outputs": [],
   "source": [
    "#using function above to find closest metro station and relative distance from every house in the subdataset containing private rooms only\n",
    "distances=[]\n",
    "stations=[] \n",
    "\n",
    "for i in range(len(df_red_rooms)):\n",
    "    new_list=closest_metro_station_finder(metro, df_red_rooms, i)\n",
    "    distances.append(new_list[0])\n",
    "    stations.append(new_list[1])\n",
    "    \n",
    "df_red_rooms['closest station']=stations\n",
    "df_red_rooms['distance from closest station']=distances"
   ]
  },
  {
   "cell_type": "code",
   "execution_count": 274,
   "id": "42fc6616",
   "metadata": {},
   "outputs": [
    {
     "data": {
      "text/html": [
       "<div>\n",
       "<style scoped>\n",
       "    .dataframe tbody tr th:only-of-type {\n",
       "        vertical-align: middle;\n",
       "    }\n",
       "\n",
       "    .dataframe tbody tr th {\n",
       "        vertical-align: top;\n",
       "    }\n",
       "\n",
       "    .dataframe thead th {\n",
       "        text-align: right;\n",
       "    }\n",
       "</style>\n",
       "<table border=\"1\" class=\"dataframe\">\n",
       "  <thead>\n",
       "    <tr style=\"text-align: right;\">\n",
       "      <th></th>\n",
       "      <th>index</th>\n",
       "      <th>neighbourhood_group</th>\n",
       "      <th>neighbourhood</th>\n",
       "      <th>latitude</th>\n",
       "      <th>longitude</th>\n",
       "      <th>room_type</th>\n",
       "      <th>price</th>\n",
       "      <th>minimum_nights</th>\n",
       "      <th>number_of_reviews</th>\n",
       "      <th>calculated_host_listings_count</th>\n",
       "      <th>availability_365</th>\n",
       "      <th>number_of_reviews_ltm</th>\n",
       "      <th>Coordinate</th>\n",
       "      <th>avg interest points-house distance</th>\n",
       "      <th>closest station</th>\n",
       "      <th>distance from closest station</th>\n",
       "    </tr>\n",
       "  </thead>\n",
       "  <tbody>\n",
       "    <tr>\n",
       "      <th>5</th>\n",
       "      <td>6</td>\n",
       "      <td>Lisboa</td>\n",
       "      <td>Lumiar</td>\n",
       "      <td>38.76427</td>\n",
       "      <td>-9.15301</td>\n",
       "      <td>Private room</td>\n",
       "      <td>40</td>\n",
       "      <td>1</td>\n",
       "      <td>2</td>\n",
       "      <td>2</td>\n",
       "      <td>0</td>\n",
       "      <td>0</td>\n",
       "      <td>POINT (-9.15301 38.76427)</td>\n",
       "      <td>48.089863</td>\n",
       "      <td>Quinta das Conchas</td>\n",
       "      <td>0.418690</td>\n",
       "    </tr>\n",
       "    <tr>\n",
       "      <th>16</th>\n",
       "      <td>27</td>\n",
       "      <td>Lisboa</td>\n",
       "      <td>So Domingos de Benfica</td>\n",
       "      <td>38.75643</td>\n",
       "      <td>-9.17700</td>\n",
       "      <td>Private room</td>\n",
       "      <td>62</td>\n",
       "      <td>1</td>\n",
       "      <td>0</td>\n",
       "      <td>1</td>\n",
       "      <td>0</td>\n",
       "      <td>0</td>\n",
       "      <td>POINT (-9.17700 38.75643)</td>\n",
       "      <td>18.342461</td>\n",
       "      <td>Alto dos Moinhos</td>\n",
       "      <td>0.763963</td>\n",
       "    </tr>\n",
       "    <tr>\n",
       "      <th>19</th>\n",
       "      <td>31</td>\n",
       "      <td>Lisboa</td>\n",
       "      <td>Penha de Frana</td>\n",
       "      <td>38.72983</td>\n",
       "      <td>-9.13183</td>\n",
       "      <td>Private room</td>\n",
       "      <td>26</td>\n",
       "      <td>1</td>\n",
       "      <td>292</td>\n",
       "      <td>3</td>\n",
       "      <td>87</td>\n",
       "      <td>36</td>\n",
       "      <td>POINT (-9.13183 38.72983)</td>\n",
       "      <td>18.321832</td>\n",
       "      <td>Anjos</td>\n",
       "      <td>0.393669</td>\n",
       "    </tr>\n",
       "    <tr>\n",
       "      <th>20</th>\n",
       "      <td>33</td>\n",
       "      <td>Lisboa</td>\n",
       "      <td>Arroios</td>\n",
       "      <td>38.71806</td>\n",
       "      <td>-9.13738</td>\n",
       "      <td>Private room</td>\n",
       "      <td>28</td>\n",
       "      <td>3</td>\n",
       "      <td>193</td>\n",
       "      <td>2</td>\n",
       "      <td>347</td>\n",
       "      <td>12</td>\n",
       "      <td>POINT (-9.13738 38.71806)</td>\n",
       "      <td>16.084885</td>\n",
       "      <td>Martim Moniz</td>\n",
       "      <td>0.143587</td>\n",
       "    </tr>\n",
       "    <tr>\n",
       "      <th>35</th>\n",
       "      <td>59</td>\n",
       "      <td>Lisboa</td>\n",
       "      <td>Santa Maria Maior</td>\n",
       "      <td>38.71358</td>\n",
       "      <td>-9.13454</td>\n",
       "      <td>Private room</td>\n",
       "      <td>31</td>\n",
       "      <td>2</td>\n",
       "      <td>165</td>\n",
       "      <td>1</td>\n",
       "      <td>43</td>\n",
       "      <td>24</td>\n",
       "      <td>POINT (-9.13454 38.71358)</td>\n",
       "      <td>36.540479</td>\n",
       "      <td>Rossio</td>\n",
       "      <td>0.301833</td>\n",
       "    </tr>\n",
       "  </tbody>\n",
       "</table>\n",
       "</div>"
      ],
      "text/plain": [
       "    index neighbourhood_group           neighbourhood  latitude  longitude  \\\n",
       "5       6              Lisboa                  Lumiar  38.76427   -9.15301   \n",
       "16     27              Lisboa  So Domingos de Benfica  38.75643   -9.17700   \n",
       "19     31              Lisboa          Penha de Frana  38.72983   -9.13183   \n",
       "20     33              Lisboa                 Arroios  38.71806   -9.13738   \n",
       "35     59              Lisboa       Santa Maria Maior  38.71358   -9.13454   \n",
       "\n",
       "       room_type  price  minimum_nights  number_of_reviews  \\\n",
       "5   Private room     40               1                  2   \n",
       "16  Private room     62               1                  0   \n",
       "19  Private room     26               1                292   \n",
       "20  Private room     28               3                193   \n",
       "35  Private room     31               2                165   \n",
       "\n",
       "    calculated_host_listings_count  availability_365  number_of_reviews_ltm  \\\n",
       "5                                2                 0                      0   \n",
       "16                               1                 0                      0   \n",
       "19                               3                87                     36   \n",
       "20                               2               347                     12   \n",
       "35                               1                43                     24   \n",
       "\n",
       "                   Coordinate  avg interest points-house distance  \\\n",
       "5   POINT (-9.15301 38.76427)                           48.089863   \n",
       "16  POINT (-9.17700 38.75643)                           18.342461   \n",
       "19  POINT (-9.13183 38.72983)                           18.321832   \n",
       "20  POINT (-9.13738 38.71806)                           16.084885   \n",
       "35  POINT (-9.13454 38.71358)                           36.540479   \n",
       "\n",
       "       closest station  distance from closest station  \n",
       "5   Quinta das Conchas                       0.418690  \n",
       "16    Alto dos Moinhos                       0.763963  \n",
       "19               Anjos                       0.393669  \n",
       "20        Martim Moniz                       0.143587  \n",
       "35              Rossio                       0.301833  "
      ]
     },
     "execution_count": 274,
     "metadata": {},
     "output_type": "execute_result"
    }
   ],
   "source": [
    "df_red_rooms.head()"
   ]
  },
  {
   "cell_type": "code",
   "execution_count": 275,
   "id": "e8d39269",
   "metadata": {},
   "outputs": [],
   "source": [
    "#using function above to find closest metro station and relative distance from every house in the subdataset containing hotel rooms only\n",
    "distances=[]\n",
    "stations=[] \n",
    "\n",
    "for i in range(len(df_red_hotel)):\n",
    "    new_list=closest_metro_station_finder(metro, df_red_hotel, i)\n",
    "    distances.append(new_list[0])\n",
    "    stations.append(new_list[1])\n",
    "                    \n",
    "df_red_hotel['closest station'] = stations\n",
    "df_red_hotel['distance from closest station'] = distances"
   ]
  },
  {
   "cell_type": "code",
   "execution_count": 276,
   "id": "edf371b8",
   "metadata": {},
   "outputs": [
    {
     "data": {
      "text/html": [
       "<div>\n",
       "<style scoped>\n",
       "    .dataframe tbody tr th:only-of-type {\n",
       "        vertical-align: middle;\n",
       "    }\n",
       "\n",
       "    .dataframe tbody tr th {\n",
       "        vertical-align: top;\n",
       "    }\n",
       "\n",
       "    .dataframe thead th {\n",
       "        text-align: right;\n",
       "    }\n",
       "</style>\n",
       "<table border=\"1\" class=\"dataframe\">\n",
       "  <thead>\n",
       "    <tr style=\"text-align: right;\">\n",
       "      <th></th>\n",
       "      <th>index</th>\n",
       "      <th>neighbourhood_group</th>\n",
       "      <th>neighbourhood</th>\n",
       "      <th>latitude</th>\n",
       "      <th>longitude</th>\n",
       "      <th>room_type</th>\n",
       "      <th>price</th>\n",
       "      <th>minimum_nights</th>\n",
       "      <th>number_of_reviews</th>\n",
       "      <th>calculated_host_listings_count</th>\n",
       "      <th>availability_365</th>\n",
       "      <th>number_of_reviews_ltm</th>\n",
       "      <th>Coordinate</th>\n",
       "      <th>avg interest points-house distance</th>\n",
       "      <th>closest station</th>\n",
       "      <th>distance from closest station</th>\n",
       "    </tr>\n",
       "  </thead>\n",
       "  <tbody>\n",
       "    <tr>\n",
       "      <th>947</th>\n",
       "      <td>1861</td>\n",
       "      <td>Lisboa</td>\n",
       "      <td>Santa Maria Maior</td>\n",
       "      <td>38.71066</td>\n",
       "      <td>-9.13533</td>\n",
       "      <td>Hotel room</td>\n",
       "      <td>65</td>\n",
       "      <td>1</td>\n",
       "      <td>33</td>\n",
       "      <td>5</td>\n",
       "      <td>361</td>\n",
       "      <td>2</td>\n",
       "      <td>POINT (-9.13533 38.71066)</td>\n",
       "      <td>48.089863</td>\n",
       "      <td>Terreiro do Paço</td>\n",
       "      <td>0.387967</td>\n",
       "    </tr>\n",
       "    <tr>\n",
       "      <th>994</th>\n",
       "      <td>1932</td>\n",
       "      <td>Lisboa</td>\n",
       "      <td>Santa Maria Maior</td>\n",
       "      <td>38.71113</td>\n",
       "      <td>-9.13547</td>\n",
       "      <td>Hotel room</td>\n",
       "      <td>60</td>\n",
       "      <td>1</td>\n",
       "      <td>31</td>\n",
       "      <td>5</td>\n",
       "      <td>344</td>\n",
       "      <td>2</td>\n",
       "      <td>POINT (-9.13547 38.71113)</td>\n",
       "      <td>18.342461</td>\n",
       "      <td>Rossio</td>\n",
       "      <td>0.400680</td>\n",
       "    </tr>\n",
       "    <tr>\n",
       "      <th>995</th>\n",
       "      <td>1933</td>\n",
       "      <td>Lisboa</td>\n",
       "      <td>Santa Maria Maior</td>\n",
       "      <td>38.70901</td>\n",
       "      <td>-9.13552</td>\n",
       "      <td>Hotel room</td>\n",
       "      <td>58</td>\n",
       "      <td>1</td>\n",
       "      <td>16</td>\n",
       "      <td>5</td>\n",
       "      <td>365</td>\n",
       "      <td>2</td>\n",
       "      <td>POINT (-9.13552 38.70901)</td>\n",
       "      <td>18.321832</td>\n",
       "      <td>Terreiro do Paço</td>\n",
       "      <td>0.224139</td>\n",
       "    </tr>\n",
       "    <tr>\n",
       "      <th>997</th>\n",
       "      <td>1938</td>\n",
       "      <td>Lisboa</td>\n",
       "      <td>Santa Maria Maior</td>\n",
       "      <td>38.71122</td>\n",
       "      <td>-9.13618</td>\n",
       "      <td>Hotel room</td>\n",
       "      <td>70</td>\n",
       "      <td>2</td>\n",
       "      <td>2</td>\n",
       "      <td>4</td>\n",
       "      <td>105</td>\n",
       "      <td>0</td>\n",
       "      <td>POINT (-9.13618 38.71122)</td>\n",
       "      <td>16.084885</td>\n",
       "      <td>Baixa Chiado</td>\n",
       "      <td>0.352811</td>\n",
       "    </tr>\n",
       "    <tr>\n",
       "      <th>1042</th>\n",
       "      <td>2012</td>\n",
       "      <td>Lisboa</td>\n",
       "      <td>Santa Maria Maior</td>\n",
       "      <td>38.71089</td>\n",
       "      <td>-9.13521</td>\n",
       "      <td>Hotel room</td>\n",
       "      <td>90</td>\n",
       "      <td>1</td>\n",
       "      <td>2</td>\n",
       "      <td>5</td>\n",
       "      <td>334</td>\n",
       "      <td>1</td>\n",
       "      <td>POINT (-9.13521 38.71089)</td>\n",
       "      <td>36.540479</td>\n",
       "      <td>Terreiro do Paço</td>\n",
       "      <td>0.410312</td>\n",
       "    </tr>\n",
       "  </tbody>\n",
       "</table>\n",
       "</div>"
      ],
      "text/plain": [
       "      index neighbourhood_group      neighbourhood  latitude  longitude  \\\n",
       "947    1861              Lisboa  Santa Maria Maior  38.71066   -9.13533   \n",
       "994    1932              Lisboa  Santa Maria Maior  38.71113   -9.13547   \n",
       "995    1933              Lisboa  Santa Maria Maior  38.70901   -9.13552   \n",
       "997    1938              Lisboa  Santa Maria Maior  38.71122   -9.13618   \n",
       "1042   2012              Lisboa  Santa Maria Maior  38.71089   -9.13521   \n",
       "\n",
       "       room_type  price  minimum_nights  number_of_reviews  \\\n",
       "947   Hotel room     65               1                 33   \n",
       "994   Hotel room     60               1                 31   \n",
       "995   Hotel room     58               1                 16   \n",
       "997   Hotel room     70               2                  2   \n",
       "1042  Hotel room     90               1                  2   \n",
       "\n",
       "      calculated_host_listings_count  availability_365  number_of_reviews_ltm  \\\n",
       "947                                5               361                      2   \n",
       "994                                5               344                      2   \n",
       "995                                5               365                      2   \n",
       "997                                4               105                      0   \n",
       "1042                               5               334                      1   \n",
       "\n",
       "                     Coordinate  avg interest points-house distance  \\\n",
       "947   POINT (-9.13533 38.71066)                           48.089863   \n",
       "994   POINT (-9.13547 38.71113)                           18.342461   \n",
       "995   POINT (-9.13552 38.70901)                           18.321832   \n",
       "997   POINT (-9.13618 38.71122)                           16.084885   \n",
       "1042  POINT (-9.13521 38.71089)                           36.540479   \n",
       "\n",
       "       closest station  distance from closest station  \n",
       "947   Terreiro do Paço                       0.387967  \n",
       "994             Rossio                       0.400680  \n",
       "995   Terreiro do Paço                       0.224139  \n",
       "997       Baixa Chiado                       0.352811  \n",
       "1042  Terreiro do Paço                       0.410312  "
      ]
     },
     "execution_count": 276,
     "metadata": {},
     "output_type": "execute_result"
    }
   ],
   "source": [
    "df_red_hotel.head()"
   ]
  },
  {
   "cell_type": "code",
   "execution_count": 277,
   "id": "55491890",
   "metadata": {},
   "outputs": [],
   "source": [
    "df_apt = df_red_apt #for convenience i'm reassinging the Entire Apartment data set to a new dataframe that's easier to call\n",
    "df_rooms = df_red_rooms #for convenience i'm reassinging the Private Rooms data set to a new dataframe that's easier to call\n",
    "df_hotel = df_red_hotel #for convenience i'm reassinging the Hotel Rooms data set to a new dataframe that's easier to call\n",
    "df_shared = df_red_shared #for convenience i'm reassinging the Shared rooms Apartment data set to a new dataframe that's easier to call"
   ]
  },
  {
   "cell_type": "markdown",
   "id": "78525c61",
   "metadata": {},
   "source": [
    "## Attaching the grades of the closest station to the Entire Apartment dataset"
   ]
  },
  {
   "cell_type": "code",
   "execution_count": 278,
   "id": "aef47526",
   "metadata": {},
   "outputs": [],
   "source": [
    "#associating grades of the closest station to the main dataset\n",
    "grades=[]\n",
    "\n",
    "for i in df_apt['closest station']:\n",
    "    \n",
    "    ind = list(weight['station']).index(i)\n",
    "    grade=weight['grade'][ind]\n",
    "    grades.append(grade)\n",
    "    \n",
    "df_apt['correspondent station grade'] = grades"
   ]
  },
  {
   "cell_type": "code",
   "execution_count": 279,
   "id": "41044136",
   "metadata": {},
   "outputs": [
    {
     "data": {
      "text/html": [
       "<div>\n",
       "<style scoped>\n",
       "    .dataframe tbody tr th:only-of-type {\n",
       "        vertical-align: middle;\n",
       "    }\n",
       "\n",
       "    .dataframe tbody tr th {\n",
       "        vertical-align: top;\n",
       "    }\n",
       "\n",
       "    .dataframe thead th {\n",
       "        text-align: right;\n",
       "    }\n",
       "</style>\n",
       "<table border=\"1\" class=\"dataframe\">\n",
       "  <thead>\n",
       "    <tr style=\"text-align: right;\">\n",
       "      <th></th>\n",
       "      <th>index</th>\n",
       "      <th>neighbourhood_group</th>\n",
       "      <th>neighbourhood</th>\n",
       "      <th>latitude</th>\n",
       "      <th>longitude</th>\n",
       "      <th>room_type</th>\n",
       "      <th>price</th>\n",
       "      <th>minimum_nights</th>\n",
       "      <th>number_of_reviews</th>\n",
       "      <th>calculated_host_listings_count</th>\n",
       "      <th>availability_365</th>\n",
       "      <th>number_of_reviews_ltm</th>\n",
       "      <th>Coordinate</th>\n",
       "      <th>avg interest points-house distance</th>\n",
       "      <th>closest station</th>\n",
       "      <th>distance from closest station</th>\n",
       "      <th>correspondent station grade</th>\n",
       "    </tr>\n",
       "  </thead>\n",
       "  <tbody>\n",
       "    <tr>\n",
       "      <th>0</th>\n",
       "      <td>0</td>\n",
       "      <td>Lisboa</td>\n",
       "      <td>Belm</td>\n",
       "      <td>38.69750</td>\n",
       "      <td>-9.19768</td>\n",
       "      <td>Entire home/apt</td>\n",
       "      <td>40</td>\n",
       "      <td>3</td>\n",
       "      <td>32</td>\n",
       "      <td>1</td>\n",
       "      <td>315</td>\n",
       "      <td>6</td>\n",
       "      <td>POINT (-9.19768 38.69750)</td>\n",
       "      <td>48.089863</td>\n",
       "      <td>Rato</td>\n",
       "      <td>4.503949</td>\n",
       "      <td>1.022765</td>\n",
       "    </tr>\n",
       "    <tr>\n",
       "      <th>1</th>\n",
       "      <td>1</td>\n",
       "      <td>Lisboa</td>\n",
       "      <td>Santa Maria Maior</td>\n",
       "      <td>38.71241</td>\n",
       "      <td>-9.12706</td>\n",
       "      <td>Entire home/apt</td>\n",
       "      <td>50</td>\n",
       "      <td>2</td>\n",
       "      <td>127</td>\n",
       "      <td>1</td>\n",
       "      <td>325</td>\n",
       "      <td>14</td>\n",
       "      <td>POINT (-9.12706 38.71241)</td>\n",
       "      <td>18.342461</td>\n",
       "      <td>Santa Apolónia</td>\n",
       "      <td>0.443087</td>\n",
       "      <td>1.000602</td>\n",
       "    </tr>\n",
       "    <tr>\n",
       "      <th>2</th>\n",
       "      <td>2</td>\n",
       "      <td>Lisboa</td>\n",
       "      <td>Santa Maria Maior</td>\n",
       "      <td>38.71082</td>\n",
       "      <td>-9.12719</td>\n",
       "      <td>Entire home/apt</td>\n",
       "      <td>60</td>\n",
       "      <td>5</td>\n",
       "      <td>337</td>\n",
       "      <td>1</td>\n",
       "      <td>190</td>\n",
       "      <td>13</td>\n",
       "      <td>POINT (-9.12719 38.71082)</td>\n",
       "      <td>18.321832</td>\n",
       "      <td>Santa Apolónia</td>\n",
       "      <td>0.548231</td>\n",
       "      <td>1.000602</td>\n",
       "    </tr>\n",
       "    <tr>\n",
       "      <th>3</th>\n",
       "      <td>3</td>\n",
       "      <td>Lisboa</td>\n",
       "      <td>Santa Maria Maior</td>\n",
       "      <td>38.71156</td>\n",
       "      <td>-9.12987</td>\n",
       "      <td>Entire home/apt</td>\n",
       "      <td>60</td>\n",
       "      <td>2</td>\n",
       "      <td>299</td>\n",
       "      <td>1</td>\n",
       "      <td>302</td>\n",
       "      <td>40</td>\n",
       "      <td>POINT (-9.12987 38.71156)</td>\n",
       "      <td>16.084885</td>\n",
       "      <td>Terreiro do Paço</td>\n",
       "      <td>0.605491</td>\n",
       "      <td>2.205083</td>\n",
       "    </tr>\n",
       "    <tr>\n",
       "      <th>4</th>\n",
       "      <td>5</td>\n",
       "      <td>Lisboa</td>\n",
       "      <td>Avenidas Novas</td>\n",
       "      <td>38.74571</td>\n",
       "      <td>-9.15264</td>\n",
       "      <td>Entire home/apt</td>\n",
       "      <td>50</td>\n",
       "      <td>5</td>\n",
       "      <td>46</td>\n",
       "      <td>1</td>\n",
       "      <td>228</td>\n",
       "      <td>8</td>\n",
       "      <td>POINT (-9.15264 38.74571)</td>\n",
       "      <td>36.540479</td>\n",
       "      <td>Entre Campos</td>\n",
       "      <td>0.417752</td>\n",
       "      <td>3.896096</td>\n",
       "    </tr>\n",
       "  </tbody>\n",
       "</table>\n",
       "</div>"
      ],
      "text/plain": [
       "   index neighbourhood_group      neighbourhood  latitude  longitude  \\\n",
       "0      0              Lisboa               Belm  38.69750   -9.19768   \n",
       "1      1              Lisboa  Santa Maria Maior  38.71241   -9.12706   \n",
       "2      2              Lisboa  Santa Maria Maior  38.71082   -9.12719   \n",
       "3      3              Lisboa  Santa Maria Maior  38.71156   -9.12987   \n",
       "4      5              Lisboa     Avenidas Novas  38.74571   -9.15264   \n",
       "\n",
       "         room_type  price  minimum_nights  number_of_reviews  \\\n",
       "0  Entire home/apt     40               3                 32   \n",
       "1  Entire home/apt     50               2                127   \n",
       "2  Entire home/apt     60               5                337   \n",
       "3  Entire home/apt     60               2                299   \n",
       "4  Entire home/apt     50               5                 46   \n",
       "\n",
       "   calculated_host_listings_count  availability_365  number_of_reviews_ltm  \\\n",
       "0                               1               315                      6   \n",
       "1                               1               325                     14   \n",
       "2                               1               190                     13   \n",
       "3                               1               302                     40   \n",
       "4                               1               228                      8   \n",
       "\n",
       "                  Coordinate  avg interest points-house distance  \\\n",
       "0  POINT (-9.19768 38.69750)                           48.089863   \n",
       "1  POINT (-9.12706 38.71241)                           18.342461   \n",
       "2  POINT (-9.12719 38.71082)                           18.321832   \n",
       "3  POINT (-9.12987 38.71156)                           16.084885   \n",
       "4  POINT (-9.15264 38.74571)                           36.540479   \n",
       "\n",
       "    closest station  distance from closest station  \\\n",
       "0              Rato                       4.503949   \n",
       "1    Santa Apolónia                       0.443087   \n",
       "2    Santa Apolónia                       0.548231   \n",
       "3  Terreiro do Paço                       0.605491   \n",
       "4      Entre Campos                       0.417752   \n",
       "\n",
       "   correspondent station grade  \n",
       "0                     1.022765  \n",
       "1                     1.000602  \n",
       "2                     1.000602  \n",
       "3                     2.205083  \n",
       "4                     3.896096  "
      ]
     },
     "execution_count": 279,
     "metadata": {},
     "output_type": "execute_result"
    }
   ],
   "source": [
    "df_apt.head()"
   ]
  },
  {
   "cell_type": "markdown",
   "id": "5da58eb0",
   "metadata": {},
   "source": [
    "## In the cell below we're creating the regressor variable, which is a combination of the inverse of the distance from the closest metro station and the weight assinged to that very station in terms of relevance within the metrostation network!\n",
    "why considered the inverse of the distance from the closest metro station so that both the component of the regressor would have a \"coherent\" effect on the price variable. in fact the if left as they are the two components (distance and weight) would \"cancel each other\" because a higher distance should theoretically have a negative impact on prices while a higher grade of the closest metro station should have a positive effect. By considering the inverse of the distance if the distance from the closest metro station is higher we can assume the two components to contribute in a coherent way on the variation of the regressor"
   ]
  },
  {
   "cell_type": "code",
   "execution_count": 280,
   "id": "60793a4e",
   "metadata": {},
   "outputs": [],
   "source": [
    "reverse_distance=1/df_apt['distance from closest station']\n",
    "regressor=(df_apt['correspondent station grade'] + reverse_distance)\n",
    "df_apt['regressor']=regressor"
   ]
  },
  {
   "cell_type": "code",
   "execution_count": 281,
   "id": "e5fe75ff",
   "metadata": {},
   "outputs": [
    {
     "data": {
      "text/plain": [
       "<matplotlib.collections.PathCollection at 0x7fa274979640>"
      ]
     },
     "execution_count": 281,
     "metadata": {},
     "output_type": "execute_result"
    },
    {
     "data": {
      "image/png": "[encoded data removed]",
      "text/plain": [
       "<Figure size 432x288 with 1 Axes>"
      ]
     },
     "metadata": {
      "needs_background": "light"
     },
     "output_type": "display_data"
    }
   ],
   "source": [
    "plt.scatter(x=df_apt['regressor'], y= df_apt['price'])"
   ]
  },
  {
   "cell_type": "code",
   "execution_count": 282,
   "id": "b8a32d9a",
   "metadata": {},
   "outputs": [
    {
     "data": {
      "text/plain": [
       "0.0824415549638895"
      ]
     },
     "execution_count": 282,
     "metadata": {},
     "output_type": "execute_result"
    }
   ],
   "source": [
    "df_apt['price'].corr(df_apt['regressor'])"
   ]
  },
  {
   "cell_type": "markdown",
   "id": "1dcef36e",
   "metadata": {},
   "source": [
    "### In the cell and graph above we can see that there are a few outlier in the regressor variable"
   ]
  },
  {
   "cell_type": "code",
   "execution_count": 283,
   "id": "3fc5348a",
   "metadata": {},
   "outputs": [
    {
     "data": {
      "text/plain": [
       "0.09"
      ]
     },
     "execution_count": 283,
     "metadata": {},
     "output_type": "execute_result"
    }
   ],
   "source": [
    "#here we're removing those variables that have a regressor value over 10, in order to consider more significat data\n",
    "df_apt_reducted=df_apt[df_apt['regressor']<10]\n",
    "round(df_apt_reducted['price'].corr(df_apt_reducted['regressor']),2)"
   ]
  },
  {
   "cell_type": "code",
   "execution_count": 284,
   "id": "79cf1c9c",
   "metadata": {},
   "outputs": [
    {
     "data": {
      "text/plain": [
       "0.005"
      ]
     },
     "execution_count": 284,
     "metadata": {},
     "output_type": "execute_result"
    }
   ],
   "source": [
    "#it looks like decreasing the maximum house price considered the correlation values slowly increases\n",
    "df_apt_reducted=df_apt_reducted[df_apt_reducted['price']<50]\n",
    "round(df_apt_reducted['price'].corr(df_apt_reducted['regressor']),3)"
   ]
  },
  {
   "cell_type": "markdown",
   "id": "80d5275c",
   "metadata": {},
   "source": [
    "### One (VERY) approximative conslusion we can draw from the fact that the correlation value seems to increase when we consider lower and lower prices could be, that the relevance of the component of price given by the presence of a metro station nearby the house decreases as the overall value of the house increase. "
   ]
  },
  {
   "cell_type": "code",
   "execution_count": 285,
   "id": "1b5e5003",
   "metadata": {},
   "outputs": [
    {
     "data": {
      "text/plain": [
       "0.02"
      ]
     },
     "execution_count": 285,
     "metadata": {},
     "output_type": "execute_result"
    }
   ],
   "source": [
    "df_apt_reducted=df_apt_reducted[df_apt_reducted['price']<30]\n",
    "round(df_apt_reducted['price'].corr(df_apt_reducted['regressor']), 2)"
   ]
  },
  {
   "cell_type": "markdown",
   "id": "5471ed1d",
   "metadata": {},
   "source": [
    "### The value of correlation even though it remains low, does increase when we remove the outliers"
   ]
  },
  {
   "cell_type": "code",
   "execution_count": 286,
   "id": "394b4b31",
   "metadata": {},
   "outputs": [],
   "source": [
    "reverse_distance=1/df_apt_reducted['distance from closest station']\n",
    "regressor=(df_apt_reducted['correspondent station grade']+reverse_distance)\n",
    "df_apt_reducted['regressor']=regressor"
   ]
  },
  {
   "cell_type": "code",
   "execution_count": 287,
   "id": "36ee1fa8",
   "metadata": {},
   "outputs": [
    {
     "data": {
      "text/plain": [
       "array([ 0.03211505, 25.31179411])"
      ]
     },
     "execution_count": 287,
     "metadata": {},
     "output_type": "execute_result"
    }
   ],
   "source": [
    "reg = np.polyfit(df_apt_reducted['regressor'], df_apt_reducted['price'], deg =1 )\n",
    "trend = np.polyval(reg, df_apt_reducted['price'])\n",
    "reg"
   ]
  },
  {
   "cell_type": "code",
   "execution_count": 288,
   "id": "994c2785",
   "metadata": {},
   "outputs": [
    {
     "data": {
      "text/plain": [
       "[<matplotlib.lines.Line2D at 0x7fa274a84700>]"
      ]
     },
     "execution_count": 288,
     "metadata": {},
     "output_type": "execute_result"
    },
    {
     "data": {
      "image/png": "[encoded data removed]",
      "text/plain": [
       "<Figure size 432x288 with 1 Axes>"
      ]
     },
     "metadata": {
      "needs_background": "light"
     },
     "output_type": "display_data"
    }
   ],
   "source": [
    "plt.scatter(x=df_apt_reducted['regressor'], y= df_apt_reducted['price'])\n",
    "plt.plot(df_apt_reducted['price'], trend, 'r')"
   ]
  },
  {
   "cell_type": "markdown",
   "id": "91622957",
   "metadata": {},
   "source": [
    "## attaching the grades of the closest station to the Private Rooms dataset"
   ]
  },
  {
   "cell_type": "code",
   "execution_count": 289,
   "id": "a3f0457d",
   "metadata": {},
   "outputs": [],
   "source": [
    "#associating grades of the closest station to the main dataset\n",
    "grades=[]\n",
    "for i in df_rooms['closest station']:\n",
    "    ind = list(weight['station']).index(i)\n",
    "    grade=weight['grade'][ind]\n",
    "    grades.append(grade)\n",
    "    \n",
    "df_rooms['correspondent station grade']=grades"
   ]
  },
  {
   "cell_type": "code",
   "execution_count": 290,
   "id": "8c713dcd",
   "metadata": {},
   "outputs": [],
   "source": [
    "reverse_distance=1/df_rooms['distance from closest station']\n",
    "regressor=(df_rooms['correspondent station grade']+reverse_distance)\n",
    "df_rooms['regressor']=regressor"
   ]
  },
  {
   "cell_type": "code",
   "execution_count": 291,
   "id": "7ba153af",
   "metadata": {},
   "outputs": [
    {
     "data": {
      "text/plain": [
       "-0.001992562575285825"
      ]
     },
     "execution_count": 291,
     "metadata": {},
     "output_type": "execute_result"
    }
   ],
   "source": [
    "df_rooms_reduct=df_rooms[df_rooms['regressor']<10]\n",
    "df_rooms_reduct['price'].corr(df_rooms_reduct['regressor'])"
   ]
  },
  {
   "cell_type": "code",
   "execution_count": 292,
   "id": "75eda785",
   "metadata": {},
   "outputs": [
    {
     "data": {
      "text/plain": [
       "array([-0.04345805, 39.57968113])"
      ]
     },
     "execution_count": 292,
     "metadata": {},
     "output_type": "execute_result"
    }
   ],
   "source": [
    "reg = np.polyfit(df_rooms['regressor'], df_rooms['price'], deg =1 )\n",
    "trend = np.polyval(reg, df_rooms['price'])\n",
    "reg"
   ]
  },
  {
   "cell_type": "code",
   "execution_count": 293,
   "id": "0e4c4aa4",
   "metadata": {},
   "outputs": [
    {
     "data": {
      "text/plain": [
       "[<matplotlib.lines.Line2D at 0x7fa2748db460>]"
      ]
     },
     "execution_count": 293,
     "metadata": {},
     "output_type": "execute_result"
    },
    {
     "data": {
      "image/png": "[encoded data removed]",
      "text/plain": [
       "<Figure size 432x288 with 1 Axes>"
      ]
     },
     "metadata": {
      "needs_background": "light"
     },
     "output_type": "display_data"
    }
   ],
   "source": [
    "plt.scatter(x=df_rooms['regressor'], y= df_rooms['price'])\n",
    "plt.plot(df_rooms['price'], trend, 'r')"
   ]
  },
  {
   "cell_type": "markdown",
   "id": "f1529803",
   "metadata": {},
   "source": [
    "### we can appreciate that prices for Private Rooms are concetrated in a lower range (obviously)\n",
    "it makes sense to consider a reducted dataset that does not consider house above a certainv value!"
   ]
  },
  {
   "cell_type": "code",
   "execution_count": 294,
   "id": "26fe8ee5",
   "metadata": {},
   "outputs": [],
   "source": [
    "df_rooms_1=df_rooms[df_rooms['price'] < 50]"
   ]
  },
  {
   "cell_type": "code",
   "execution_count": 295,
   "id": "e565212d",
   "metadata": {},
   "outputs": [],
   "source": [
    "grades=[]\n",
    "for i in df_rooms_1['closest station']:\n",
    "    ind = list(weight['station']).index(i)\n",
    "    grade=weight['grade'][ind]\n",
    "    grades.append(grade)\n",
    "    \n",
    "df_rooms_1['correspondent station grade']=grades"
   ]
  },
  {
   "cell_type": "code",
   "execution_count": 296,
   "id": "6b115952",
   "metadata": {},
   "outputs": [],
   "source": [
    "reverse_distance=1/df_rooms_1['distance from closest station']\n",
    "regressor=(df_rooms_1['correspondent station grade']+reverse_distance)\n",
    "df_rooms_1['regressor']=regressor"
   ]
  },
  {
   "cell_type": "code",
   "execution_count": 297,
   "id": "d5cf29d2",
   "metadata": {},
   "outputs": [
    {
     "data": {
      "text/plain": [
       "array([-2.51750297e-02,  3.09803904e+01])"
      ]
     },
     "execution_count": 297,
     "metadata": {},
     "output_type": "execute_result"
    }
   ],
   "source": [
    "reg = np.polyfit(df_rooms_1['regressor'], df_rooms_1['price'], deg =1 )\n",
    "trend = np.polyval(reg, df_rooms_1['price'])\n",
    "reg"
   ]
  },
  {
   "cell_type": "code",
   "execution_count": 298,
   "id": "aac211f4",
   "metadata": {},
   "outputs": [
    {
     "data": {
      "text/plain": [
       "[<matplotlib.lines.Line2D at 0x7fa274f506d0>]"
      ]
     },
     "execution_count": 298,
     "metadata": {},
     "output_type": "execute_result"
    },
    {
     "data": {
      "image/png": "[encoded data removed]",
      "text/plain": [
       "<Figure size 432x288 with 1 Axes>"
      ]
     },
     "metadata": {
      "needs_background": "light"
     },
     "output_type": "display_data"
    }
   ],
   "source": [
    "plt.scatter(x=df_rooms_1['regressor'], y= df_rooms_1['price'])\n",
    "plt.plot(df_rooms_1['price'], trend, 'r')"
   ]
  },
  {
   "cell_type": "markdown",
   "id": "9a9d4f5f",
   "metadata": {},
   "source": [
    "### we can see that as far as Private Rooms are concerned we find no correlation of any kind between the regressor variable and the house prices."
   ]
  },
  {
   "cell_type": "code",
   "execution_count": 299,
   "id": "8333df17",
   "metadata": {},
   "outputs": [],
   "source": [
    "grades=[]\n",
    "for i in df_shared['closest station']:\n",
    "    ind = list(weight['station']).index(i)\n",
    "    grade=weight['grade'][ind]\n",
    "    grades.append(grade)\n",
    "    \n",
    "df_shared['correspondent station grade']=grades"
   ]
  },
  {
   "cell_type": "code",
   "execution_count": 300,
   "id": "fc7c71d1",
   "metadata": {},
   "outputs": [],
   "source": [
    "reverse_distance=1/df_shared['distance from closest station']\n",
    "regressor=(df_shared['correspondent station grade']+reverse_distance)\n",
    "df_shared['regressor']=regressor"
   ]
  },
  {
   "cell_type": "code",
   "execution_count": 301,
   "id": "452a41d6",
   "metadata": {},
   "outputs": [
    {
     "data": {
      "text/plain": [
       "array([-2.51750297e-02,  3.09803904e+01])"
      ]
     },
     "execution_count": 301,
     "metadata": {},
     "output_type": "execute_result"
    }
   ],
   "source": [
    "reg = np.polyfit(df_rooms_1['regressor'], df_rooms_1['price'], deg =1 )\n",
    "trend = np.polyval(reg, df_rooms_1['price'])\n",
    "reg"
   ]
  },
  {
   "cell_type": "code",
   "execution_count": 302,
   "id": "8cf39fd4",
   "metadata": {},
   "outputs": [
    {
     "data": {
      "text/plain": [
       "[<matplotlib.lines.Line2D at 0x7fa292048d60>]"
      ]
     },
     "execution_count": 302,
     "metadata": {},
     "output_type": "execute_result"
    },
    {
     "data": {
      "image/png": "[encoded data removed]",
      "text/plain": [
       "<Figure size 432x288 with 1 Axes>"
      ]
     },
     "metadata": {
      "needs_background": "light"
     },
     "output_type": "display_data"
    }
   ],
   "source": [
    "plt.scatter(x=df_rooms_1['regressor'], y= df_rooms_1['price'])\n",
    "plt.plot(df_rooms_1['price'], trend, 'r')"
   ]
  },
  {
   "cell_type": "markdown",
   "id": "15cde3a3",
   "metadata": {},
   "source": [
    "### We can make similar considerations for she Shared Bedrooms, there is no sign of correlation (at least no sign of positive correlation. We can observe a very small component of negative correlation but it is actually neglecatble in terms of statistic significance."
   ]
  },
  {
   "cell_type": "code",
   "execution_count": 303,
   "id": "d154c56d",
   "metadata": {},
   "outputs": [
    {
     "data": {
      "text/plain": [
       "9266"
      ]
     },
     "execution_count": 303,
     "metadata": {},
     "output_type": "execute_result"
    }
   ],
   "source": [
    "len(df_red)"
   ]
  },
  {
   "cell_type": "code",
   "execution_count": null,
   "id": "12f5ccaa",
   "metadata": {},
   "outputs": [],
   "source": []
  },
  {
   "cell_type": "code",
   "execution_count": null,
   "id": "7d553e9b",
   "metadata": {},
   "outputs": [],
   "source": []
  }
 ],
 "metadata": {
  "kernelspec": {
   "display_name": "Python 3 (ipykernel)",
   "language": "python",
   "name": "python3"
  },
  "language_info": {
   "codemirror_mode": {
    "name": "ipython",
    "version": 3
   },
   "file_extension": ".py",
   "mimetype": "text/x-python",
   "name": "python",
   "nbconvert_exporter": "python",
   "pygments_lexer": "ipython3",
   "version": "3.9.7"
  }
 },
 "nbformat": 4,
 "nbformat_minor": 5
}
