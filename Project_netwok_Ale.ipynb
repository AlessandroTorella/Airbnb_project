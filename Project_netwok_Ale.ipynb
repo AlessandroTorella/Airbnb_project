{
 "cells": [
  {
   "cell_type": "markdown",
   "id": "b41dd090",
   "metadata": {},
   "source": [
    "## Airbnb project"
   ]
  },
  {
   "cell_type": "code",
   "execution_count": 1,
   "id": "0cb6be59",
   "metadata": {},
   "outputs": [],
   "source": [
    "import pandas as pd\n",
    "import geopandas as gpd\n",
    "import geoplot\n",
    "import geoplot.crs as gcrs\n",
    "import matplotlib.pyplot as plt\n",
    "from shapely.geometry import Point, LineString\n",
    "import seaborn as sns\n",
    "import numpy as np\n",
    "import shapely\n",
    "from geopy import distance"
   ]
  },
  {
   "cell_type": "code",
   "execution_count": 2,
   "id": "1555a34c",
   "metadata": {},
   "outputs": [],
   "source": [
    "pd.options.mode.chained_assignment = None"
   ]
  },
  {
   "cell_type": "code",
   "execution_count": 3,
   "id": "8e14f3be",
   "metadata": {},
   "outputs": [],
   "source": [
    "#hood = gpd.read_file('neighbourhoods.geojson')\n",
    "metro = gpd.read_file('metro.geojson')\n",
    "df = pd.read_csv('listings.csv')"
   ]
  },
  {
   "cell_type": "markdown",
   "id": "a239ad44",
   "metadata": {},
   "source": [
    "# Metro dataset"
   ]
  },
  {
   "cell_type": "code",
   "execution_count": 4,
   "id": "a5babe48",
   "metadata": {},
   "outputs": [],
   "source": [
    "df2 = metro.copy()\n",
    "for i in range(len(df2)):\n",
    "    if not '/' in df2['LINHA'][i]:\n",
    "        df2.drop([i], axis=0, inplace=True)\n",
    "df2 = df2.reset_index()"
   ]
  },
  {
   "cell_type": "code",
   "execution_count": 5,
   "id": "71223d71",
   "metadata": {},
   "outputs": [],
   "source": [
    "for i in range(len(metro)):\n",
    "    if '/' in  metro['LINHA'][i]:\n",
    "        metro['LINHA'][i] = metro['LINHA'][i].split('/')[0]\n",
    "\n",
    "for j in range(len(df2)):\n",
    "    df2['LINHA'][j] = df2['LINHA'][j].split('/')[1]\n",
    "    \n",
    "metro = pd.concat([metro, df2])"
   ]
  },
  {
   "cell_type": "code",
   "execution_count": 6,
   "id": "dfeb4270",
   "metadata": {},
   "outputs": [],
   "source": [
    "metro = pd.concat([metro, df2])\n",
    "metro = metro.drop(columns = ['index','OBJECTID','COD_SIG','IDTIPO','SITUACAO','GlobalID'])"
   ]
  },
  {
   "cell_type": "code",
   "execution_count": 7,
   "id": "d4c07ad6",
   "metadata": {},
   "outputs": [],
   "source": [
    "yellow = metro[metro.LINHA == 'Amarela'].reset_index()\n",
    "blue = metro[metro.LINHA == 'Azul'].reset_index()\n",
    "green = metro[metro.LINHA == 'Verde'].reset_index()\n",
    "red = metro[metro.LINHA == 'Vermelha'].reset_index()"
   ]
  },
  {
   "cell_type": "markdown",
   "id": "55825a56",
   "metadata": {},
   "source": [
    "# Metro Network"
   ]
  },
  {
   "cell_type": "code",
   "execution_count": 8,
   "id": "d620bbf7",
   "metadata": {},
   "outputs": [],
   "source": [
    "import networkx as nx\n",
    "from pyvis.network import Network"
   ]
  },
  {
   "cell_type": "markdown",
   "id": "14b06720",
   "metadata": {},
   "source": [
    "Import the graph baseline from excel where we have column for Origin and Destination"
   ]
  },
  {
   "cell_type": "code",
   "execution_count": 9,
   "id": "008b52b9",
   "metadata": {},
   "outputs": [],
   "source": [
    "metro_graph = pd.read_excel('metro.xlsx')"
   ]
  },
  {
   "cell_type": "code",
   "execution_count": 10,
   "id": "4efbfd2e",
   "metadata": {},
   "outputs": [],
   "source": [
    "metro_graph = metro_graph.dropna()\n",
    "metro_graph = metro_graph.drop(columns = ['NOME', 'LINHA', 'Unnamed: 0', 'OBJECTID'])"
   ]
  },
  {
   "cell_type": "markdown",
   "id": "33ecd803",
   "metadata": {},
   "source": [
    "## Set up the graph"
   ]
  },
  {
   "cell_type": "code",
   "execution_count": 11,
   "id": "15087920",
   "metadata": {},
   "outputs": [],
   "source": [
    "G = nx.Graph()\n",
    "G = nx.from_pandas_edgelist(metro_graph, 'Origin', 'Destination')"
   ]
  },
  {
   "cell_type": "code",
   "execution_count": 12,
   "id": "f0925566",
   "metadata": {},
   "outputs": [
    {
     "data": {
      "text/html": [
       "\n",
       "        <iframe\n",
       "            width=\"500\"\n",
       "            height=\"500\"\n",
       "            src=\"metro.html\"\n",
       "            frameborder=\"0\"\n",
       "            allowfullscreen\n",
       "            \n",
       "        ></iframe>\n",
       "        "
      ],
      "text/plain": [
       "<IPython.lib.display.IFrame at 0x7fe2b5106a90>"
      ]
     },
     "execution_count": 12,
     "metadata": {},
     "output_type": "execute_result"
    }
   ],
   "source": [
    "net = Network(notebook=True)\n",
    "net.from_nx(G)\n",
    "net.width=500\n",
    "net.height=500\n",
    "net.show('metro.html')"
   ]
  },
  {
   "cell_type": "markdown",
   "id": "30053e22",
   "metadata": {},
   "source": [
    "Get the origin and destination coordinates"
   ]
  },
  {
   "cell_type": "code",
   "execution_count": 13,
   "id": "41753371",
   "metadata": {},
   "outputs": [],
   "source": [
    "metro_dict = dict(zip(metro.NOME, metro.geometry))\n",
    "metro_graph['p1'] = (metro_graph['Origin']).map(metro_dict)\n",
    "metro_graph['p2'] = (metro_graph['Destination']).map(metro_dict)"
   ]
  },
  {
   "cell_type": "markdown",
   "id": "3a15470b",
   "metadata": {},
   "source": [
    "Create a LineString object between origin and Destination"
   ]
  },
  {
   "cell_type": "code",
   "execution_count": 15,
   "id": "c8494778",
   "metadata": {},
   "outputs": [],
   "source": [
    "a = []\n",
    "for i in range(len(metro_graph)):\n",
    "    a.append((LineString([metro_graph.p1[i],metro_graph.p2[i]])))\n",
    "\n",
    "metro_graph['LineString'] = a"
   ]
  },
  {
   "cell_type": "markdown",
   "id": "cc8bbd45",
   "metadata": {},
   "source": [
    "Transform the graph in a Geopandas Datframe"
   ]
  },
  {
   "cell_type": "code",
   "execution_count": 16,
   "id": "abe6808e",
   "metadata": {},
   "outputs": [],
   "source": [
    "metro_graph = gpd.GeoDataFrame(metro_graph)"
   ]
  },
  {
   "cell_type": "markdown",
   "id": "c07fcec4",
   "metadata": {},
   "source": [
    "## Calculate distance between nodes"
   ]
  },
  {
   "cell_type": "code",
   "execution_count": 18,
   "id": "11649309",
   "metadata": {},
   "outputs": [],
   "source": [
    "from shapely.geometry import LineString\n",
    "from shapely.ops import transform\n",
    "from functools import partial\n",
    "import pyproj"
   ]
  },
  {
   "cell_type": "markdown",
   "id": "4ea31f23",
   "metadata": {},
   "source": [
    "This function transforms the LineString distance in Meters"
   ]
  },
  {
   "cell_type": "code",
   "execution_count": 19,
   "id": "52dbcb58",
   "metadata": {},
   "outputs": [],
   "source": [
    "def transform_linestring(df):\n",
    "    \n",
    "    lenghts = []\n",
    "    project = partial(pyproj.transform, pyproj.Proj('EPSG:4326'), pyproj.Proj('EPSG:32633'))\n",
    "    for line in df.LineString:\n",
    "        lenghts.append(int(transform(project, line).length))\n",
    "    \n",
    "    df['distance_meters'] = lenghts"
   ]
  },
  {
   "cell_type": "code",
   "execution_count": 20,
   "id": "8e54e0c7",
   "metadata": {},
   "outputs": [],
   "source": [
    "transform_linestring(metro_graph)"
   ]
  },
  {
   "cell_type": "markdown",
   "id": "77be967d",
   "metadata": {},
   "source": [
    "We now have a graph with a distance attribute to calculate degree importance based on."
   ]
  },
  {
   "cell_type": "code",
   "execution_count": 21,
   "id": "399a1bfe",
   "metadata": {},
   "outputs": [],
   "source": [
    "G_distance = nx.from_pandas_edgelist(metro_graph, 'Origin', 'Destination',['distance_meters'])"
   ]
  },
  {
   "cell_type": "markdown",
   "id": "5e378177",
   "metadata": {},
   "source": [
    "### Degrees"
   ]
  },
  {
   "cell_type": "code",
   "execution_count": 22,
   "id": "0b1c8234",
   "metadata": {},
   "outputs": [],
   "source": [
    "#degree_sort = sorted(G_distance.degree(), key=lambda x: x[1], reverse=True)\n",
    "degrees = {node:val for (node, val) in G_distance.degree()}\n",
    "\n",
    "closeness = nx.closeness_centrality(G_distance, distance='distance_meters')\n",
    "\n",
    "between = nx.betweenness_centrality(G_distance, weight='distance_meters')\n",
    "\n",
    "eigen = nx.eigenvector_centrality(G_distance,max_iter=10000, weight='distance_meters')\n",
    "\n",
    "centrality = nx.degree_centrality(G_distance)"
   ]
  },
  {
   "cell_type": "code",
   "execution_count": 23,
   "id": "bcaa60f7",
   "metadata": {},
   "outputs": [],
   "source": [
    "betweness = pd.DataFrame.from_dict(between, orient='index').rename(columns = {0: 'Betweness'}).reset_index().rename(columns = {'index': 'station'})\n",
    "closeness = pd.DataFrame.from_dict(closeness, orient='index').rename(columns = {0: 'Closeness'}).reset_index().rename(columns = {'index': 'station'})\n",
    "eigeness = pd.DataFrame.from_dict(eigen, orient='index').rename(columns = {0: 'Eigeness'}).reset_index().rename(columns = {'index': 'station'})\n",
    "central = pd.DataFrame.from_dict(centrality, orient='index').rename(columns = {0: 'Centrality'}).reset_index().rename(columns = {'index': 'station'})\n",
    "Degree = pd.DataFrame.from_dict(degrees, orient='index').rename(columns = {0: 'Degree'}).reset_index().rename(columns = {'index': 'station'})\n",
    "weight = pd.merge(betweness, closeness, on='station')\n",
    "weight = pd.merge(weight, eigeness, on='station')\n",
    "weight = pd.merge(weight, central, on='station')\n",
    "weight = pd.merge(weight, Degree, on='station')"
   ]
  },
  {
   "cell_type": "code",
   "execution_count": 24,
   "id": "7c9b6ff8",
   "metadata": {},
   "outputs": [],
   "source": [
    "weight['degree_mean'] = weight.iloc[:,1:4].mean(axis=1)"
   ]
  },
  {
   "cell_type": "code",
   "execution_count": 25,
   "id": "4fbf21ae",
   "metadata": {},
   "outputs": [],
   "source": [
    "lines_dict = dict(zip(metro.NOME, metro.LINHA))\n",
    "station_coord = dict(zip(metro.NOME, metro.geometry))\n",
    "\n",
    "weight['line_color'] = (weight['station']).map(lines_dict)\n",
    "weight['Coordinate'] = (weight['station']).map(station_coord)"
   ]
  },
  {
   "cell_type": "markdown",
   "id": "8d716049",
   "metadata": {},
   "source": [
    "## Function that gives the distance in meters from a specified point to each metro station"
   ]
  },
  {
   "cell_type": "markdown",
   "id": "228e5edc",
   "metadata": {},
   "source": [
    "The idea is to have an interactive weight attribution where we are the ones choosing the point of interest, giving coordinates which can be found on this website: https://www.latlong.net/place/rossio-square-lisbon-portugal-23131.html.\n",
    "Then we assign a score to that monument and depending on how near the metro station is the more importance it gets."
   ]
  },
  {
   "cell_type": "code",
   "execution_count": 26,
   "id": "7eeff8c5",
   "metadata": {},
   "outputs": [],
   "source": [
    "def distance_grade(longlat_tuple, grade, df, name_of_place):\n",
    "    \n",
    "    col_name = 'Distance from ' + str(name_of_place)\n",
    "    \n",
    "    from_place_list = [] #list of distances\n",
    "    location = Point(longlat_tuple) #get location of the monument\n",
    "    project = partial(pyproj.transform, pyproj.Proj('EPSG:4326'), pyproj.Proj('EPSG:32633'))\n",
    "    for i in df.Coordinate: #iterate over the coordinates of each metro station\n",
    "        line_string = shapely.geometry.LineString([i,location]) #construct a linestring between the station and the monument\n",
    "        trans = transform(project, line_string) #transform the linestring in meters\n",
    "        #from_place_list.append(int(trans.length))\n",
    "        \n",
    "    #further implementation to assign weight (importance) to each monument\n",
    "        if int(trans.length) < 2000: #if the distance is less than 4 km from the monument\n",
    "            from_place_list.append(grade) \n",
    "        elif int(trans.length) < 4000 and int(trans.length) > 2000:\n",
    "            from_place_list.append(grade * 0.5)\n",
    "        elif int(trans.length) < 8000 and int(trans.length) > 4000:\n",
    "            from_place_list.append(grade * 0.25)\n",
    "        else:\n",
    "            from_place_list.append(0)\n",
    "            \n",
    "    df[col_name] = from_place_list"
   ]
  },
  {
   "cell_type": "markdown",
   "id": "cdebaeb7",
   "metadata": {},
   "source": [
    "## Implement for a list of monuments"
   ]
  },
  {
   "cell_type": "code",
   "execution_count": 27,
   "id": "2255092f",
   "metadata": {},
   "outputs": [],
   "source": [
    "list_of_monuments = {'Mosteiro dos Jerónimos': ((-9.204487, 38.697819), 5.5),\n",
    "                    'Oceanário de Lisboa': ((-9.0937, 38.7635), 6),\n",
    "                    'Museu Nacional de Arte Antiga': ((-9.141161, 38.708460), 4),\n",
    "                    'Torre de Belem': ((-9.2147, 38.6967), 8),\n",
    "                    'Elevador de Santa Justa': ((-9.139221, 38.712173), 9),\n",
    "                    'Padrão dos Descobrimentos': ((-9.205712, 38.693596), 6),\n",
    "                    'Praça do Comércio': ((-9.136744, 38.707779), 10),\n",
    "                    'Museu de Arte, Arquitectura e Tecnologia': ((-9.194453, 38.695927), 6),\n",
    "                    }"
   ]
  },
  {
   "cell_type": "code",
   "execution_count": 28,
   "id": "e0b4e018",
   "metadata": {},
   "outputs": [],
   "source": [
    "for i in list_of_monuments:\n",
    "    distance_grade(list_of_monuments[i][0], list_of_monuments[i][1], weight, i)"
   ]
  },
  {
   "cell_type": "code",
   "execution_count": 29,
   "id": "c9e3efbc",
   "metadata": {},
   "outputs": [],
   "source": [
    "weight['Monument_Score'] = weight.iloc[:,9:].mean(axis=1).round(2)"
   ]
  },
  {
   "cell_type": "markdown",
   "id": "47629a2f",
   "metadata": {},
   "source": [
    "## Delete columns in excess"
   ]
  },
  {
   "cell_type": "code",
   "execution_count": 30,
   "id": "63d835eb",
   "metadata": {},
   "outputs": [],
   "source": [
    "weight = weight.drop(columns = weight.iloc[:,9:-1].columns.tolist())\n",
    "weight = weight.drop(columns = weight.iloc[:,1:4].columns.tolist())"
   ]
  },
  {
   "cell_type": "markdown",
   "id": "fc73c0ed",
   "metadata": {},
   "source": [
    "## Score increase based on Degree\n",
    "\n",
    "If the metro station has more than degree 2 i.e. it's a crossing of 2 lines: the score is increased by 50%."
   ]
  },
  {
   "cell_type": "code",
   "execution_count": 32,
   "id": "2632bc41",
   "metadata": {},
   "outputs": [],
   "source": [
    "for i in range(len(weight)):\n",
    "    if weight.Degree[i] > 2:\n",
    "        weight.Monument_Score[i] *= 1.5"
   ]
  },
  {
   "cell_type": "code",
   "execution_count": 33,
   "id": "359ad62b",
   "metadata": {},
   "outputs": [
    {
     "data": {
      "text/html": [
       "<div>\n",
       "<style scoped>\n",
       "    .dataframe tbody tr th:only-of-type {\n",
       "        vertical-align: middle;\n",
       "    }\n",
       "\n",
       "    .dataframe tbody tr th {\n",
       "        vertical-align: top;\n",
       "    }\n",
       "\n",
       "    .dataframe thead th {\n",
       "        text-align: right;\n",
       "    }\n",
       "</style>\n",
       "<table border=\"1\" class=\"dataframe\">\n",
       "  <thead>\n",
       "    <tr style=\"text-align: right;\">\n",
       "      <th></th>\n",
       "      <th>station</th>\n",
       "      <th>Centrality</th>\n",
       "      <th>Degree</th>\n",
       "      <th>degree_mean</th>\n",
       "      <th>line_color</th>\n",
       "      <th>Coordinate</th>\n",
       "      <th>Monument_Score</th>\n",
       "    </tr>\n",
       "  </thead>\n",
       "  <tbody>\n",
       "    <tr>\n",
       "      <th>0</th>\n",
       "      <td>Reboleira</td>\n",
       "      <td>0.020408</td>\n",
       "      <td>1</td>\n",
       "      <td>0.000030</td>\n",
       "      <td>Azul</td>\n",
       "      <td>POINT (-9.223883295575069 38.752271287954)</td>\n",
       "      <td>0.80</td>\n",
       "    </tr>\n",
       "    <tr>\n",
       "      <th>1</th>\n",
       "      <td>Amadora Este</td>\n",
       "      <td>0.040816</td>\n",
       "      <td>2</td>\n",
       "      <td>0.013646</td>\n",
       "      <td>Azul</td>\n",
       "      <td>POINT (-9.217901617117381 38.758715859802)</td>\n",
       "      <td>0.61</td>\n",
       "    </tr>\n",
       "    <tr>\n",
       "      <th>2</th>\n",
       "      <td>Alfornelos</td>\n",
       "      <td>0.040816</td>\n",
       "      <td>2</td>\n",
       "      <td>0.026693</td>\n",
       "      <td>Azul</td>\n",
       "      <td>POINT (-9.204477478277459 38.7605071115253)</td>\n",
       "      <td>0.61</td>\n",
       "    </tr>\n",
       "    <tr>\n",
       "      <th>3</th>\n",
       "      <td>Pontinha</td>\n",
       "      <td>0.040816</td>\n",
       "      <td>2</td>\n",
       "      <td>0.039180</td>\n",
       "      <td>Azul</td>\n",
       "      <td>POINT (-9.196937374617089 38.7623917163549)</td>\n",
       "      <td>0.36</td>\n",
       "    </tr>\n",
       "    <tr>\n",
       "      <th>4</th>\n",
       "      <td>Carnide</td>\n",
       "      <td>0.040816</td>\n",
       "      <td>2</td>\n",
       "      <td>0.051157</td>\n",
       "      <td>Azul</td>\n",
       "      <td>POINT (-9.19273248473962 38.7591726199562)</td>\n",
       "      <td>0.61</td>\n",
       "    </tr>\n",
       "  </tbody>\n",
       "</table>\n",
       "</div>"
      ],
      "text/plain": [
       "        station  Centrality  Degree  degree_mean line_color  \\\n",
       "0     Reboleira    0.020408       1     0.000030       Azul   \n",
       "1  Amadora Este    0.040816       2     0.013646       Azul   \n",
       "2    Alfornelos    0.040816       2     0.026693       Azul   \n",
       "3      Pontinha    0.040816       2     0.039180       Azul   \n",
       "4       Carnide    0.040816       2     0.051157       Azul   \n",
       "\n",
       "                                    Coordinate  Monument_Score  \n",
       "0   POINT (-9.223883295575069 38.752271287954)            0.80  \n",
       "1   POINT (-9.217901617117381 38.758715859802)            0.61  \n",
       "2  POINT (-9.204477478277459 38.7605071115253)            0.61  \n",
       "3  POINT (-9.196937374617089 38.7623917163549)            0.36  \n",
       "4   POINT (-9.19273248473962 38.7591726199562)            0.61  "
      ]
     },
     "execution_count": 33,
     "metadata": {},
     "output_type": "execute_result"
    }
   ],
   "source": [
    "weight.head()"
   ]
  },
  {
   "cell_type": "code",
   "execution_count": 35,
   "id": "7092ae44",
   "metadata": {},
   "outputs": [],
   "source": [
    "metro_graph.to_excel('metro_graph.xlsx')"
   ]
  },
  {
   "cell_type": "code",
   "execution_count": null,
   "id": "648e6154",
   "metadata": {},
   "outputs": [],
   "source": []
  }
 ],
 "metadata": {
  "kernelspec": {
   "display_name": "Python 3 (ipykernel)",
   "language": "python",
   "name": "python3"
  },
  "language_info": {
   "codemirror_mode": {
    "name": "ipython",
    "version": 3
   },
   "file_extension": ".py",
   "mimetype": "text/x-python",
   "name": "python",
   "nbconvert_exporter": "python",
   "pygments_lexer": "ipython3",
   "version": "3.9.7"
  }
 },
 "nbformat": 4,
 "nbformat_minor": 5
}
