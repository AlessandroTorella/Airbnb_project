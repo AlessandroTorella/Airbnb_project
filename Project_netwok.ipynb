{
 "cells": [
  {
   "cell_type": "markdown",
   "id": "b41dd090",
   "metadata": {},
   "source": [
    "## Airbnb project"
   ]
  },
  {
   "cell_type": "code",
   "execution_count": 131,
   "id": "0cb6be59",
   "metadata": {},
   "outputs": [],
   "source": [
    "import pandas as pd\n",
    "import geopandas as gpd\n",
    "import geoplot\n",
    "import geoplot.crs as gcrs\n",
    "import matplotlib.pyplot as plt\n",
    "from shapely.geometry import Point, LineString\n",
    "import seaborn as sns"
   ]
  },
  {
   "cell_type": "code",
   "execution_count": 132,
   "id": "8e14f3be",
   "metadata": {},
   "outputs": [],
   "source": [
    "hood = gpd.read_file('neighbourhoods.geojson')\n",
    "metro = gpd.read_file('metro.geojson')\n",
    "trains = gpd.read_file('comboios.geojson')\n",
    "df = pd.read_csv('listings.csv')"
   ]
  },
  {
   "cell_type": "markdown",
   "id": "a239ad44",
   "metadata": {},
   "source": [
    "# Metro dataset"
   ]
  },
  {
   "cell_type": "code",
   "execution_count": 133,
   "id": "a5babe48",
   "metadata": {},
   "outputs": [],
   "source": [
    "df2 = metro.copy()\n",
    "for i in range(len(df2)):\n",
    "    if not '/' in df2['LINHA'][i]:\n",
    "        df2.drop([i], axis=0, inplace=True)\n",
    "df2 = df2.reset_index()"
   ]
  },
  {
   "cell_type": "code",
   "execution_count": 134,
   "id": "71223d71",
   "metadata": {},
   "outputs": [
    {
     "name": "stderr",
     "output_type": "stream",
     "text": [
      "/var/folders/10/b37vvtzs1hx0zykkgsrfypbr0000gn/T/ipykernel_32579/857219963.py:3: SettingWithCopyWarning: \n",
      "A value is trying to be set on a copy of a slice from a DataFrame\n",
      "\n",
      "See the caveats in the documentation: https://pandas.pydata.org/pandas-docs/stable/user_guide/indexing.html#returning-a-view-versus-a-copy\n",
      "  metro['LINHA'][i] = metro['LINHA'][i].split('/')[0]\n",
      "/var/folders/10/b37vvtzs1hx0zykkgsrfypbr0000gn/T/ipykernel_32579/857219963.py:6: SettingWithCopyWarning: \n",
      "A value is trying to be set on a copy of a slice from a DataFrame\n",
      "\n",
      "See the caveats in the documentation: https://pandas.pydata.org/pandas-docs/stable/user_guide/indexing.html#returning-a-view-versus-a-copy\n",
      "  df2['LINHA'][j] = df2['LINHA'][j].split('/')[1]\n"
     ]
    }
   ],
   "source": [
    "for i in range(len(metro)):\n",
    "    if '/' in  metro['LINHA'][i]:\n",
    "        metro['LINHA'][i] = metro['LINHA'][i].split('/')[0]\n",
    "\n",
    "for j in range(len(df2)):\n",
    "    df2['LINHA'][j] = df2['LINHA'][j].split('/')[1]\n",
    "    \n",
    "metro = pd.concat([metro, df2])"
   ]
  },
  {
   "cell_type": "code",
   "execution_count": 135,
   "id": "dfeb4270",
   "metadata": {},
   "outputs": [],
   "source": [
    "metro = pd.concat([metro, df2])"
   ]
  },
  {
   "cell_type": "code",
   "execution_count": 136,
   "id": "d09f7ccc",
   "metadata": {},
   "outputs": [],
   "source": [
    "colors = {'Verde': 'green', \n",
    "          'Azul': 'blue', \n",
    "          'Azul/Verde': 'blue',\n",
    "          'Amarela': 'red', \n",
    "          'Azul/Amarela': 'red',\n",
    "          'Azul/Vermelha': 'blue',\n",
    "          'Amarela/Vermelha': 'red',\n",
    "          'Verde/Vermelha': 'green',\n",
    "          'Amarela/Verde': 'red',\n",
    "          'Vermelha': 'violet'\n",
    "         }"
   ]
  },
  {
   "cell_type": "code",
   "execution_count": 137,
   "id": "f6da8c04",
   "metadata": {},
   "outputs": [],
   "source": [
    "metro['color_eng'] = (metro['LINHA']).map(colors)"
   ]
  },
  {
   "cell_type": "code",
   "execution_count": 138,
   "id": "d4c07ad6",
   "metadata": {},
   "outputs": [],
   "source": [
    "yellow = metro[metro.LINHA == 'Amarela'].reset_index()\n",
    "blue = metro[metro.LINHA == 'Azul'].reset_index()\n",
    "green = metro[metro.LINHA == 'Verde'].reset_index()\n",
    "red = metro[metro.LINHA == 'Vermelha'].reset_index()"
   ]
  },
  {
   "cell_type": "code",
   "execution_count": 139,
   "id": "892e9cbb",
   "metadata": {},
   "outputs": [],
   "source": [
    "#ax = geoplot.polyplot(hood, edgecolor='white', facecolor='lightgray', figsize=(12, 15))\n",
    "#geoplot.pointplot(metro, ax=ax, hue='LINHA')\n",
    "#gpd.GeoSeries([LineString(blue.geometry)]).plot(ax=ax)"
   ]
  },
  {
   "cell_type": "markdown",
   "id": "55825a56",
   "metadata": {},
   "source": [
    "# Metro Network"
   ]
  },
  {
   "cell_type": "code",
   "execution_count": 140,
   "id": "d620bbf7",
   "metadata": {},
   "outputs": [],
   "source": [
    "import networkx as nx\n",
    "from pyvis.network import Network"
   ]
  },
  {
   "cell_type": "code",
   "execution_count": 141,
   "id": "008b52b9",
   "metadata": {},
   "outputs": [],
   "source": [
    "metro_graph = pd.read_excel('metro.xlsx')"
   ]
  },
  {
   "cell_type": "code",
   "execution_count": 142,
   "id": "4efbfd2e",
   "metadata": {},
   "outputs": [],
   "source": [
    "metro_graph = metro_graph.dropna()\n",
    "metro_graph = metro_graph.drop(columns = ['NOME', 'LINHA', 'Unnamed: 0', 'OBJECTID'])"
   ]
  },
  {
   "cell_type": "code",
   "execution_count": 143,
   "id": "9570ec85",
   "metadata": {},
   "outputs": [
    {
     "data": {
      "text/html": [
       "<div>\n",
       "<style scoped>\n",
       "    .dataframe tbody tr th:only-of-type {\n",
       "        vertical-align: middle;\n",
       "    }\n",
       "\n",
       "    .dataframe tbody tr th {\n",
       "        vertical-align: top;\n",
       "    }\n",
       "\n",
       "    .dataframe thead th {\n",
       "        text-align: right;\n",
       "    }\n",
       "</style>\n",
       "<table border=\"1\" class=\"dataframe\">\n",
       "  <thead>\n",
       "    <tr style=\"text-align: right;\">\n",
       "      <th></th>\n",
       "      <th>Origin</th>\n",
       "      <th>Destination</th>\n",
       "    </tr>\n",
       "  </thead>\n",
       "  <tbody>\n",
       "    <tr>\n",
       "      <th>0</th>\n",
       "      <td>Reboleira</td>\n",
       "      <td>Amadora Este</td>\n",
       "    </tr>\n",
       "    <tr>\n",
       "      <th>1</th>\n",
       "      <td>Amadora Este</td>\n",
       "      <td>Alfornelos</td>\n",
       "    </tr>\n",
       "    <tr>\n",
       "      <th>2</th>\n",
       "      <td>Alfornelos</td>\n",
       "      <td>Pontinha</td>\n",
       "    </tr>\n",
       "    <tr>\n",
       "      <th>3</th>\n",
       "      <td>Pontinha</td>\n",
       "      <td>Carnide</td>\n",
       "    </tr>\n",
       "    <tr>\n",
       "      <th>4</th>\n",
       "      <td>Carnide</td>\n",
       "      <td>Colégio Militar</td>\n",
       "    </tr>\n",
       "  </tbody>\n",
       "</table>\n",
       "</div>"
      ],
      "text/plain": [
       "         Origin      Destination\n",
       "0     Reboleira     Amadora Este\n",
       "1  Amadora Este       Alfornelos\n",
       "2    Alfornelos         Pontinha\n",
       "3      Pontinha          Carnide\n",
       "4       Carnide  Colégio Militar"
      ]
     },
     "execution_count": 143,
     "metadata": {},
     "output_type": "execute_result"
    }
   ],
   "source": [
    "metro_graph.head()"
   ]
  },
  {
   "cell_type": "code",
   "execution_count": 144,
   "id": "15087920",
   "metadata": {},
   "outputs": [],
   "source": [
    "G=nx.Graph()\n",
    "G=nx.from_pandas_edgelist(metro_graph, 'Origin', 'Destination')"
   ]
  },
  {
   "cell_type": "code",
   "execution_count": 145,
   "id": "07425240",
   "metadata": {},
   "outputs": [
    {
     "data": {
      "text/html": [
       "\n",
       "        <iframe\n",
       "            width=\"500\"\n",
       "            height=\"500\"\n",
       "            src=\"metro.html\"\n",
       "            frameborder=\"0\"\n",
       "            allowfullscreen\n",
       "            \n",
       "        ></iframe>\n",
       "        "
      ],
      "text/plain": [
       "<IPython.lib.display.IFrame at 0x7f7e0ad77550>"
      ]
     },
     "execution_count": 145,
     "metadata": {},
     "output_type": "execute_result"
    }
   ],
   "source": [
    "net = Network(notebook=True)\n",
    "net.from_nx(G)\n",
    "net.width=500\n",
    "net.height=500\n",
    "net.show('metro.html')"
   ]
  },
  {
   "cell_type": "code",
   "execution_count": 146,
   "id": "b07fce41",
   "metadata": {},
   "outputs": [],
   "source": [
    "metro_dict = dict(zip(metro.NOME, metro.geometry))"
   ]
  },
  {
   "cell_type": "code",
   "execution_count": 147,
   "id": "2ab4d7fe",
   "metadata": {},
   "outputs": [],
   "source": [
    "metro_graph['p1'] = (metro_graph['Origin']).map(metro_dict)\n",
    "metro_graph['p2'] = (metro_graph['Destination']).map(metro_dict)"
   ]
  },
  {
   "cell_type": "code",
   "execution_count": 148,
   "id": "7ca4aefe",
   "metadata": {},
   "outputs": [],
   "source": [
    "a = []\n",
    "for i in range(len(metro_graph)):\n",
    "    a.append((LineString([metro_graph.p1[i],metro_graph.p2[i]])))\n",
    "\n",
    "metro_graph['LineString'] = a"
   ]
  },
  {
   "cell_type": "code",
   "execution_count": 149,
   "id": "e32bf0ee",
   "metadata": {},
   "outputs": [],
   "source": [
    "metro_graph = gpd.GeoDataFrame(metro_graph)"
   ]
  },
  {
   "cell_type": "code",
   "execution_count": null,
   "id": "a980a662",
   "metadata": {},
   "outputs": [],
   "source": []
  }
 ],
 "metadata": {
  "kernelspec": {
   "display_name": "Python 3 (ipykernel)",
   "language": "python",
   "name": "python3"
  },
  "language_info": {
   "codemirror_mode": {
    "name": "ipython",
    "version": 3
   },
   "file_extension": ".py",
   "mimetype": "text/x-python",
   "name": "python",
   "nbconvert_exporter": "python",
   "pygments_lexer": "ipython3",
   "version": "3.9.7"
  }
 },
 "nbformat": 4,
 "nbformat_minor": 5
}
