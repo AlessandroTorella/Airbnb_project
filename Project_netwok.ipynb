{
 "cells": [
  {
   "cell_type": "markdown",
   "id": "b41dd090",
   "metadata": {},
   "source": [
    "## Airbnb project"
   ]
  },
  {
   "cell_type": "code",
   "execution_count": 227,
   "id": "0cb6be59",
   "metadata": {},
   "outputs": [],
   "source": [
    "import pandas as pd\n",
    "import geopandas as gpd\n",
    "import geoplot\n",
    "import geoplot.crs as gcrs\n",
    "import matplotlib.pyplot as plt\n",
    "from shapely.geometry import Point, LineString\n",
    "import seaborn as sns\n",
    "import numpy as np\n",
    "import shapely\n",
    "from geopy import distance"
   ]
  },
  {
   "cell_type": "code",
   "execution_count": 228,
   "id": "8e14f3be",
   "metadata": {},
   "outputs": [],
   "source": [
    "hood = gpd.read_file('neighbourhoods.geojson')\n",
    "metro = gpd.read_file('metro.geojson')\n",
    "df = pd.read_csv('listings.csv')"
   ]
  },
  {
   "cell_type": "markdown",
   "id": "a239ad44",
   "metadata": {},
   "source": [
    "# Metro dataset"
   ]
  },
  {
   "cell_type": "code",
   "execution_count": 229,
   "id": "a5babe48",
   "metadata": {},
   "outputs": [],
   "source": [
    "df2 = metro.copy()\n",
    "for i in range(len(df2)):\n",
    "    if not '/' in df2['LINHA'][i]:\n",
    "        df2.drop([i], axis=0, inplace=True)\n",
    "df2 = df2.reset_index()"
   ]
  },
  {
   "cell_type": "code",
   "execution_count": 230,
   "id": "71223d71",
   "metadata": {},
   "outputs": [
    {
     "name": "stderr",
     "output_type": "stream",
     "text": [
      "/var/folders/10/b37vvtzs1hx0zykkgsrfypbr0000gn/T/ipykernel_32469/857219963.py:3: SettingWithCopyWarning: \n",
      "A value is trying to be set on a copy of a slice from a DataFrame\n",
      "\n",
      "See the caveats in the documentation: https://pandas.pydata.org/pandas-docs/stable/user_guide/indexing.html#returning-a-view-versus-a-copy\n",
      "  metro['LINHA'][i] = metro['LINHA'][i].split('/')[0]\n",
      "/var/folders/10/b37vvtzs1hx0zykkgsrfypbr0000gn/T/ipykernel_32469/857219963.py:6: SettingWithCopyWarning: \n",
      "A value is trying to be set on a copy of a slice from a DataFrame\n",
      "\n",
      "See the caveats in the documentation: https://pandas.pydata.org/pandas-docs/stable/user_guide/indexing.html#returning-a-view-versus-a-copy\n",
      "  df2['LINHA'][j] = df2['LINHA'][j].split('/')[1]\n"
     ]
    }
   ],
   "source": [
    "for i in range(len(metro)):\n",
    "    if '/' in  metro['LINHA'][i]:\n",
    "        metro['LINHA'][i] = metro['LINHA'][i].split('/')[0]\n",
    "\n",
    "for j in range(len(df2)):\n",
    "    df2['LINHA'][j] = df2['LINHA'][j].split('/')[1]\n",
    "    \n",
    "metro = pd.concat([metro, df2])"
   ]
  },
  {
   "cell_type": "code",
   "execution_count": 231,
   "id": "dfeb4270",
   "metadata": {},
   "outputs": [],
   "source": [
    "metro = pd.concat([metro, df2])"
   ]
  },
  {
   "cell_type": "code",
   "execution_count": 232,
   "id": "d09f7ccc",
   "metadata": {},
   "outputs": [],
   "source": [
    "colors = {'Verde': 'green', \n",
    "          'Azul': 'blue', \n",
    "          'Azul/Verde': 'blue',\n",
    "          'Amarela': 'red', \n",
    "          'Azul/Amarela': 'red',\n",
    "          'Azul/Vermelha': 'blue',\n",
    "          'Amarela/Vermelha': 'red',\n",
    "          'Verde/Vermelha': 'green',\n",
    "          'Amarela/Verde': 'red',\n",
    "          'Vermelha': 'violet'\n",
    "         }"
   ]
  },
  {
   "cell_type": "code",
   "execution_count": 233,
   "id": "f6da8c04",
   "metadata": {},
   "outputs": [],
   "source": [
    "metro['color_eng'] = (metro['LINHA']).map(colors)"
   ]
  },
  {
   "cell_type": "code",
   "execution_count": 234,
   "id": "d4c07ad6",
   "metadata": {},
   "outputs": [],
   "source": [
    "yellow = metro[metro.LINHA == 'Amarela'].reset_index()\n",
    "blue = metro[metro.LINHA == 'Azul'].reset_index()\n",
    "green = metro[metro.LINHA == 'Verde'].reset_index()\n",
    "red = metro[metro.LINHA == 'Vermelha'].reset_index()"
   ]
  },
  {
   "cell_type": "code",
   "execution_count": 235,
   "id": "892e9cbb",
   "metadata": {},
   "outputs": [],
   "source": [
    "#ax = geoplot.polyplot(hood, edgecolor='white', facecolor='lightgray', figsize=(12, 15))\n",
    "#geoplot.pointplot(metro, ax=ax, hue='LINHA')\n",
    "#gpd.GeoSeries([LineString(blue.geometry)]).plot(ax=ax)"
   ]
  },
  {
   "cell_type": "markdown",
   "id": "55825a56",
   "metadata": {},
   "source": [
    "# Metro Network"
   ]
  },
  {
   "cell_type": "code",
   "execution_count": 236,
   "id": "d620bbf7",
   "metadata": {},
   "outputs": [],
   "source": [
    "import networkx as nx\n",
    "from pyvis.network import Network"
   ]
  },
  {
   "cell_type": "code",
   "execution_count": 237,
   "id": "008b52b9",
   "metadata": {},
   "outputs": [],
   "source": [
    "metro_graph = pd.read_excel('metro.xlsx')"
   ]
  },
  {
   "cell_type": "code",
   "execution_count": 238,
   "id": "4efbfd2e",
   "metadata": {},
   "outputs": [],
   "source": [
    "metro_graph = metro_graph.dropna()\n",
    "metro_graph = metro_graph.drop(columns = ['NOME', 'LINHA', 'Unnamed: 0', 'OBJECTID'])"
   ]
  },
  {
   "cell_type": "code",
   "execution_count": 239,
   "id": "9570ec85",
   "metadata": {},
   "outputs": [
    {
     "data": {
      "text/html": [
       "<div>\n",
       "<style scoped>\n",
       "    .dataframe tbody tr th:only-of-type {\n",
       "        vertical-align: middle;\n",
       "    }\n",
       "\n",
       "    .dataframe tbody tr th {\n",
       "        vertical-align: top;\n",
       "    }\n",
       "\n",
       "    .dataframe thead th {\n",
       "        text-align: right;\n",
       "    }\n",
       "</style>\n",
       "<table border=\"1\" class=\"dataframe\">\n",
       "  <thead>\n",
       "    <tr style=\"text-align: right;\">\n",
       "      <th></th>\n",
       "      <th>Origin</th>\n",
       "      <th>Destination</th>\n",
       "    </tr>\n",
       "  </thead>\n",
       "  <tbody>\n",
       "    <tr>\n",
       "      <th>0</th>\n",
       "      <td>Reboleira</td>\n",
       "      <td>Amadora Este</td>\n",
       "    </tr>\n",
       "    <tr>\n",
       "      <th>1</th>\n",
       "      <td>Amadora Este</td>\n",
       "      <td>Alfornelos</td>\n",
       "    </tr>\n",
       "    <tr>\n",
       "      <th>2</th>\n",
       "      <td>Alfornelos</td>\n",
       "      <td>Pontinha</td>\n",
       "    </tr>\n",
       "    <tr>\n",
       "      <th>3</th>\n",
       "      <td>Pontinha</td>\n",
       "      <td>Carnide</td>\n",
       "    </tr>\n",
       "    <tr>\n",
       "      <th>4</th>\n",
       "      <td>Carnide</td>\n",
       "      <td>Colégio Militar</td>\n",
       "    </tr>\n",
       "  </tbody>\n",
       "</table>\n",
       "</div>"
      ],
      "text/plain": [
       "         Origin      Destination\n",
       "0     Reboleira     Amadora Este\n",
       "1  Amadora Este       Alfornelos\n",
       "2    Alfornelos         Pontinha\n",
       "3      Pontinha          Carnide\n",
       "4       Carnide  Colégio Militar"
      ]
     },
     "execution_count": 239,
     "metadata": {},
     "output_type": "execute_result"
    }
   ],
   "source": [
    "metro_graph.head()"
   ]
  },
  {
   "cell_type": "markdown",
   "id": "3e614796",
   "metadata": {},
   "source": [
    "## Set up the graph"
   ]
  },
  {
   "cell_type": "code",
   "execution_count": 240,
   "id": "15087920",
   "metadata": {},
   "outputs": [],
   "source": [
    "G = nx.Graph()\n",
    "G = nx.from_pandas_edgelist(metro_graph, 'Origin', 'Destination')"
   ]
  },
  {
   "cell_type": "raw",
   "id": "b5e15d07",
   "metadata": {},
   "source": [
    "net = Network(notebook=True)\n",
    "net.from_nx(G)\n",
    "net.width=500\n",
    "net.height=500\n",
    "net.show('metro.html')"
   ]
  },
  {
   "cell_type": "code",
   "execution_count": 241,
   "id": "b07fce41",
   "metadata": {},
   "outputs": [],
   "source": [
    "metro_dict = dict(zip(metro.NOME, metro.geometry))"
   ]
  },
  {
   "cell_type": "code",
   "execution_count": 242,
   "id": "41753371",
   "metadata": {},
   "outputs": [],
   "source": [
    "metro_graph['p1'] = (metro_graph['Origin']).map(metro_dict)\n",
    "metro_graph['p2'] = (metro_graph['Destination']).map(metro_dict)"
   ]
  },
  {
   "cell_type": "code",
   "execution_count": 243,
   "id": "c8494778",
   "metadata": {},
   "outputs": [],
   "source": [
    "a = []\n",
    "for i in range(len(metro_graph)):\n",
    "    a.append((LineString([metro_graph.p1[i],metro_graph.p2[i]])))\n",
    "\n",
    "metro_graph['LineString'] = a"
   ]
  },
  {
   "cell_type": "code",
   "execution_count": 244,
   "id": "abe6808e",
   "metadata": {},
   "outputs": [],
   "source": [
    "metro_graph = gpd.GeoDataFrame(metro_graph)"
   ]
  },
  {
   "cell_type": "markdown",
   "id": "c07fcec4",
   "metadata": {},
   "source": [
    "## Calculate distance between nodes"
   ]
  },
  {
   "cell_type": "code",
   "execution_count": 245,
   "id": "11649309",
   "metadata": {},
   "outputs": [],
   "source": [
    "from shapely.geometry import LineString\n",
    "from shapely.ops import transform\n",
    "from functools import partial\n",
    "import pyproj"
   ]
  },
  {
   "cell_type": "code",
   "execution_count": 246,
   "id": "52dbcb58",
   "metadata": {},
   "outputs": [],
   "source": [
    "def transform_linestring(df):\n",
    "    \n",
    "    lenghts = []\n",
    "    project = partial(pyproj.transform, pyproj.Proj('EPSG:4326'), pyproj.Proj('EPSG:32633'))\n",
    "    for line in df.LineString:\n",
    "        lenghts.append(int(transform(project, line).length))\n",
    "    \n",
    "    df['distance_meters'] = lenghts"
   ]
  },
  {
   "cell_type": "code",
   "execution_count": 247,
   "id": "8770eea1",
   "metadata": {},
   "outputs": [],
   "source": [
    "transform_linestring(metro_graph)"
   ]
  },
  {
   "cell_type": "code",
   "execution_count": 248,
   "id": "399a1bfe",
   "metadata": {},
   "outputs": [],
   "source": [
    "G_distance = nx.from_pandas_edgelist(metro_graph, 'Origin', 'Destination',['distance_meters'])"
   ]
  },
  {
   "cell_type": "markdown",
   "id": "92ca2de3",
   "metadata": {},
   "source": [
    "### Sort based on degree"
   ]
  },
  {
   "cell_type": "code",
   "execution_count": 249,
   "id": "0b1c8234",
   "metadata": {},
   "outputs": [],
   "source": [
    "#degree_sort = sorted(G_distance.degree(), key=lambda x: x[1], reverse=True)\n",
    "degrees = {node:val for (node, val) in G_distance.degree()}"
   ]
  },
  {
   "cell_type": "markdown",
   "id": "5e378177",
   "metadata": {},
   "source": [
    "### Degrees"
   ]
  },
  {
   "cell_type": "code",
   "execution_count": 250,
   "id": "69440aec",
   "metadata": {},
   "outputs": [],
   "source": [
    "closeness = nx.closeness_centrality(G_distance, distance='distance_meters')\n",
    "#print(max(closeness, key=closeness.get))"
   ]
  },
  {
   "cell_type": "code",
   "execution_count": 251,
   "id": "ac09c0f1",
   "metadata": {},
   "outputs": [],
   "source": [
    "between = nx.betweenness_centrality(G_distance, weight='distance_meters')\n",
    "#print(max(between, key=between.get))"
   ]
  },
  {
   "cell_type": "code",
   "execution_count": 252,
   "id": "53e0f430",
   "metadata": {},
   "outputs": [],
   "source": [
    "eigen = nx.eigenvector_centrality(G_distance,max_iter=10000, weight='distance_meters')"
   ]
  },
  {
   "cell_type": "code",
   "execution_count": 253,
   "id": "02d51efa",
   "metadata": {},
   "outputs": [],
   "source": [
    "centrality = nx.degree_centrality(G_distance)"
   ]
  },
  {
   "cell_type": "code",
   "execution_count": 254,
   "id": "bcaa60f7",
   "metadata": {},
   "outputs": [],
   "source": [
    "betweness = pd.DataFrame.from_dict(between, orient='index').rename(columns = {0: 'Betweness'}).reset_index().rename(columns = {'index': 'station'})\n",
    "closeness = pd.DataFrame.from_dict(closeness, orient='index').rename(columns = {0: 'Closeness'}).reset_index().rename(columns = {'index': 'station'})\n",
    "eigeness = pd.DataFrame.from_dict(eigen, orient='index').rename(columns = {0: 'Eigeness'}).reset_index().rename(columns = {'index': 'station'})\n",
    "central = pd.DataFrame.from_dict(centrality, orient='index').rename(columns = {0: 'Centrality'}).reset_index().rename(columns = {'index': 'station'})\n",
    "Degree = pd.DataFrame.from_dict(degrees, orient='index').rename(columns = {0: 'Degree'}).reset_index().rename(columns = {'index': 'station'})\n",
    "weight = pd.merge(betweness, closeness, on='station')\n",
    "weight = pd.merge(weight, eigeness, on='station')\n",
    "weight = pd.merge(weight, central, on='station')\n",
    "weight = pd.merge(weight, Degree, on='station')"
   ]
  },
  {
   "cell_type": "code",
   "execution_count": 255,
   "id": "7c9b6ff8",
   "metadata": {},
   "outputs": [],
   "source": [
    "weight['mean'] = weight.iloc[:,1:4].mean(axis=1)"
   ]
  },
  {
   "cell_type": "code",
   "execution_count": 256,
   "id": "0c3ae2fd",
   "metadata": {},
   "outputs": [
    {
     "data": {
      "text/html": [
       "<div>\n",
       "<style scoped>\n",
       "    .dataframe tbody tr th:only-of-type {\n",
       "        vertical-align: middle;\n",
       "    }\n",
       "\n",
       "    .dataframe tbody tr th {\n",
       "        vertical-align: top;\n",
       "    }\n",
       "\n",
       "    .dataframe thead th {\n",
       "        text-align: right;\n",
       "    }\n",
       "</style>\n",
       "<table border=\"1\" class=\"dataframe\">\n",
       "  <thead>\n",
       "    <tr style=\"text-align: right;\">\n",
       "      <th></th>\n",
       "      <th>station</th>\n",
       "      <th>Betweness</th>\n",
       "      <th>Closeness</th>\n",
       "      <th>Eigeness</th>\n",
       "      <th>Centrality</th>\n",
       "      <th>Degree</th>\n",
       "      <th>mean</th>\n",
       "    </tr>\n",
       "  </thead>\n",
       "  <tbody>\n",
       "    <tr>\n",
       "      <th>23</th>\n",
       "      <td>Campo Grande</td>\n",
       "      <td>0.227041</td>\n",
       "      <td>0.000147</td>\n",
       "      <td>0.626953</td>\n",
       "      <td>0.081633</td>\n",
       "      <td>4</td>\n",
       "      <td>0.284714</td>\n",
       "    </tr>\n",
       "    <tr>\n",
       "      <th>34</th>\n",
       "      <td>Alameda</td>\n",
       "      <td>0.458333</td>\n",
       "      <td>0.000209</td>\n",
       "      <td>0.135006</td>\n",
       "      <td>0.081633</td>\n",
       "      <td>4</td>\n",
       "      <td>0.197849</td>\n",
       "    </tr>\n",
       "    <tr>\n",
       "      <th>31</th>\n",
       "      <td>Alvalade</td>\n",
       "      <td>0.102891</td>\n",
       "      <td>0.000157</td>\n",
       "      <td>0.471594</td>\n",
       "      <td>0.040816</td>\n",
       "      <td>2</td>\n",
       "      <td>0.191548</td>\n",
       "    </tr>\n",
       "    <tr>\n",
       "      <th>27</th>\n",
       "      <td>Saldanha</td>\n",
       "      <td>0.443027</td>\n",
       "      <td>0.000215</td>\n",
       "      <td>0.121756</td>\n",
       "      <td>0.081633</td>\n",
       "      <td>4</td>\n",
       "      <td>0.188333</td>\n",
       "    </tr>\n",
       "    <tr>\n",
       "      <th>24</th>\n",
       "      <td>Cidade Universitária</td>\n",
       "      <td>0.143707</td>\n",
       "      <td>0.000155</td>\n",
       "      <td>0.353409</td>\n",
       "      <td>0.040816</td>\n",
       "      <td>2</td>\n",
       "      <td>0.165757</td>\n",
       "    </tr>\n",
       "  </tbody>\n",
       "</table>\n",
       "</div>"
      ],
      "text/plain": [
       "                 station  Betweness  Closeness  Eigeness  Centrality  Degree  \\\n",
       "23          Campo Grande   0.227041   0.000147  0.626953    0.081633       4   \n",
       "34               Alameda   0.458333   0.000209  0.135006    0.081633       4   \n",
       "31              Alvalade   0.102891   0.000157  0.471594    0.040816       2   \n",
       "27              Saldanha   0.443027   0.000215  0.121756    0.081633       4   \n",
       "24  Cidade Universitária   0.143707   0.000155  0.353409    0.040816       2   \n",
       "\n",
       "        mean  \n",
       "23  0.284714  \n",
       "34  0.197849  \n",
       "31  0.191548  \n",
       "27  0.188333  \n",
       "24  0.165757  "
      ]
     },
     "execution_count": 256,
     "metadata": {},
     "output_type": "execute_result"
    }
   ],
   "source": [
    "weight.sort_values('mean').iloc[::-1].head()"
   ]
  },
  {
   "cell_type": "code",
   "execution_count": 257,
   "id": "f5e670b9",
   "metadata": {},
   "outputs": [
    {
     "data": {
      "text/html": [
       "<div>\n",
       "<style scoped>\n",
       "    .dataframe tbody tr th:only-of-type {\n",
       "        vertical-align: middle;\n",
       "    }\n",
       "\n",
       "    .dataframe tbody tr th {\n",
       "        vertical-align: top;\n",
       "    }\n",
       "\n",
       "    .dataframe thead th {\n",
       "        text-align: right;\n",
       "    }\n",
       "</style>\n",
       "<table border=\"1\" class=\"dataframe\">\n",
       "  <thead>\n",
       "    <tr style=\"text-align: right;\">\n",
       "      <th></th>\n",
       "      <th>OBJECTID</th>\n",
       "      <th>NOME</th>\n",
       "      <th>COD_SIG</th>\n",
       "      <th>IDTIPO</th>\n",
       "      <th>SITUACAO</th>\n",
       "      <th>LINHA</th>\n",
       "      <th>GlobalID</th>\n",
       "      <th>geometry</th>\n",
       "      <th>index</th>\n",
       "      <th>color_eng</th>\n",
       "    </tr>\n",
       "  </thead>\n",
       "  <tbody>\n",
       "    <tr>\n",
       "      <th>0</th>\n",
       "      <td>1</td>\n",
       "      <td>Cais do Sodré</td>\n",
       "      <td>35</td>\n",
       "      <td>9008</td>\n",
       "      <td>Linha existente</td>\n",
       "      <td>Verde</td>\n",
       "      <td>d5542849-632f-4127-a009-3988731f3509</td>\n",
       "      <td>POINT (-9.14609 38.70627)</td>\n",
       "      <td>NaN</td>\n",
       "      <td>green</td>\n",
       "    </tr>\n",
       "    <tr>\n",
       "      <th>1</th>\n",
       "      <td>2</td>\n",
       "      <td>Terreiro do Paço</td>\n",
       "      <td>34</td>\n",
       "      <td>9008</td>\n",
       "      <td>Linha existente</td>\n",
       "      <td>Azul</td>\n",
       "      <td>9a90a59a-8b21-4fd7-b9f2-3a633c4cdd07</td>\n",
       "      <td>POINT (-9.13419 38.70728)</td>\n",
       "      <td>NaN</td>\n",
       "      <td>blue</td>\n",
       "    </tr>\n",
       "    <tr>\n",
       "      <th>2</th>\n",
       "      <td>3</td>\n",
       "      <td>Baixa Chiado</td>\n",
       "      <td>33</td>\n",
       "      <td>9008</td>\n",
       "      <td>Linha existente</td>\n",
       "      <td>Azul</td>\n",
       "      <td>18279178-37b5-4bf9-9136-c67aa97d6559</td>\n",
       "      <td>POINT (-9.14015 38.71057)</td>\n",
       "      <td>NaN</td>\n",
       "      <td>blue</td>\n",
       "    </tr>\n",
       "    <tr>\n",
       "      <th>3</th>\n",
       "      <td>4</td>\n",
       "      <td>Santa Apolónia</td>\n",
       "      <td>37</td>\n",
       "      <td>9008</td>\n",
       "      <td>Linha existente</td>\n",
       "      <td>Azul</td>\n",
       "      <td>ebb35126-e7bf-4c7f-b3a4-deb2f3b899a0</td>\n",
       "      <td>POINT (-9.12241 38.71404)</td>\n",
       "      <td>NaN</td>\n",
       "      <td>blue</td>\n",
       "    </tr>\n",
       "    <tr>\n",
       "      <th>4</th>\n",
       "      <td>5</td>\n",
       "      <td>Rossio</td>\n",
       "      <td>43</td>\n",
       "      <td>9008</td>\n",
       "      <td>Linha existente</td>\n",
       "      <td>Verde</td>\n",
       "      <td>302467d8-12a1-4052-86ac-8a33be669894</td>\n",
       "      <td>POINT (-9.13792 38.71418)</td>\n",
       "      <td>NaN</td>\n",
       "      <td>green</td>\n",
       "    </tr>\n",
       "  </tbody>\n",
       "</table>\n",
       "</div>"
      ],
      "text/plain": [
       "   OBJECTID              NOME COD_SIG IDTIPO         SITUACAO  LINHA  \\\n",
       "0         1     Cais do Sodré      35   9008  Linha existente  Verde   \n",
       "1         2  Terreiro do Paço      34   9008  Linha existente   Azul   \n",
       "2         3      Baixa Chiado      33   9008  Linha existente   Azul   \n",
       "3         4    Santa Apolónia      37   9008  Linha existente   Azul   \n",
       "4         5            Rossio      43   9008  Linha existente  Verde   \n",
       "\n",
       "                               GlobalID                   geometry  index  \\\n",
       "0  d5542849-632f-4127-a009-3988731f3509  POINT (-9.14609 38.70627)    NaN   \n",
       "1  9a90a59a-8b21-4fd7-b9f2-3a633c4cdd07  POINT (-9.13419 38.70728)    NaN   \n",
       "2  18279178-37b5-4bf9-9136-c67aa97d6559  POINT (-9.14015 38.71057)    NaN   \n",
       "3  ebb35126-e7bf-4c7f-b3a4-deb2f3b899a0  POINT (-9.12241 38.71404)    NaN   \n",
       "4  302467d8-12a1-4052-86ac-8a33be669894  POINT (-9.13792 38.71418)    NaN   \n",
       "\n",
       "  color_eng  \n",
       "0     green  \n",
       "1      blue  \n",
       "2      blue  \n",
       "3      blue  \n",
       "4     green  "
      ]
     },
     "execution_count": 257,
     "metadata": {},
     "output_type": "execute_result"
    }
   ],
   "source": [
    "metro.head()"
   ]
  },
  {
   "cell_type": "code",
   "execution_count": 258,
   "id": "8419c3d9",
   "metadata": {},
   "outputs": [],
   "source": [
    "lines_dict = dict(zip(metro.NOME, metro.LINHA))\n",
    "station_coord = dict(zip(metro.NOME, metro.geometry))"
   ]
  },
  {
   "cell_type": "code",
   "execution_count": 259,
   "id": "4fbf21ae",
   "metadata": {},
   "outputs": [],
   "source": [
    "weight['line_color'] = (weight['station']).map(lines_dict)\n",
    "weight['Coordinate'] = (weight['station']).map(station_coord)"
   ]
  },
  {
   "cell_type": "markdown",
   "id": "8d716049",
   "metadata": {},
   "source": [
    "## Function that gives the distance in meters from a specified point to each metro station"
   ]
  },
  {
   "cell_type": "markdown",
   "id": "228e5edc",
   "metadata": {},
   "source": [
    "The idea is to have an interactive weight attribution where we are the ones choosing the point of interest, giving coordinates which can be found on this website: https://www.latlong.net/place/rossio-square-lisbon-portugal-23131.html.\n",
    "Then we assign a score to that monument and depending on how near the metro station is the more importance it gets."
   ]
  },
  {
   "cell_type": "code",
   "execution_count": 260,
   "id": "7eeff8c5",
   "metadata": {},
   "outputs": [],
   "source": [
    "def distance_grade(longlat_tuple, grade, df, name_of_place):\n",
    "    \n",
    "    col_name = 'Distance from ' + str(name_of_place)\n",
    "    \n",
    "    from_place_list = [] #list of distances\n",
    "    location = Point(longlat_tuple) #get location of the monument\n",
    "    project = partial(pyproj.transform, pyproj.Proj('EPSG:4326'), pyproj.Proj('EPSG:32633'))\n",
    "    for i in df.Coordinate: #iterate over the coordinates of each metro station\n",
    "        line_string = shapely.geometry.LineString([i,location]) #construct a linestring between the station and the monument\n",
    "        trans = transform(project, line_string) #transform the linestring in meters\n",
    "        #from_place_list.append(int(trans.length))\n",
    "        \n",
    "    #further implementation to assign weight (importance) to each monument\n",
    "        if int(trans.length) < 2000: #if the distance is less than 4 km from the monument\n",
    "            from_place_list.append(grade) \n",
    "        elif int(trans.length) < 4000:\n",
    "            from_place_list.append(grade*0.5)\n",
    "        elif int(trans.length) < 8000:\n",
    "            from_place_list.append(grade*0.25)\n",
    "        else:\n",
    "            from_place_list.append(0)\n",
    "            \n",
    "    df[col_name] = from_place_list"
   ]
  },
  {
   "cell_type": "markdown",
   "id": "cdebaeb7",
   "metadata": {},
   "source": [
    "## Implement for a list of monuments"
   ]
  },
  {
   "cell_type": "code",
   "execution_count": 261,
   "id": "2255092f",
   "metadata": {},
   "outputs": [],
   "source": [
    "list_of_monuments = {'Mosteiro dos Jerónimos': ((-9.204487, 38.697819), 5.5),\n",
    "                    'Oceanário de Lisboa': ((-9.0937, 38.7635), 6),\n",
    "                    'Museu Nacional de Arte Antiga': ((-9.141161, 38.708460), 4),\n",
    "                    'Torre de Belem': ((-9.2147, 38.6967), 8),\n",
    "                    'Elevador de Santa Justa': ((-9.139221, 38.712173), 9),\n",
    "                    'Padrão dos Descobrimentos': ((-9.205712, 38.693596), 6),\n",
    "                    'Praça do Comércio': ((-9.136744, 38.707779), 10),\n",
    "                    'Museu de Arte, Arquitectura e Tecnologia': ((-9.194453, 38.695927), 6),\n",
    "                    }"
   ]
  },
  {
   "cell_type": "code",
   "execution_count": 262,
   "id": "e0b4e018",
   "metadata": {},
   "outputs": [],
   "source": [
    "for i in list_of_monuments:\n",
    "    distance_grade(list_of_monuments[i][0], list_of_monuments[i][1], weight, i)"
   ]
  },
  {
   "cell_type": "code",
   "execution_count": 263,
   "id": "c9e3efbc",
   "metadata": {},
   "outputs": [],
   "source": [
    "weight['Score'] = weight.iloc[:,9:].mean(axis=1).round(2)\n",
    "weight = weight.drop(columns = weight.iloc[:,9:-1].columns.tolist())\n",
    "weight = weight.drop(columns = weight.iloc[:,1:4].columns.tolist())"
   ]
  },
  {
   "cell_type": "code",
   "execution_count": null,
   "id": "cacfb972",
   "metadata": {},
   "outputs": [],
   "source": []
  }
 ],
 "metadata": {
  "kernelspec": {
   "display_name": "Python 3 (ipykernel)",
   "language": "python",
   "name": "python3"
  },
  "language_info": {
   "codemirror_mode": {
    "name": "ipython",
    "version": 3
   },
   "file_extension": ".py",
   "mimetype": "text/x-python",
   "name": "python",
   "nbconvert_exporter": "python",
   "pygments_lexer": "ipython3",
   "version": "3.9.7"
  }
 },
 "nbformat": 4,
 "nbformat_minor": 5
}
